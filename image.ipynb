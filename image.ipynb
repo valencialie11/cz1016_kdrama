{
 "cells": [
  {
   "cell_type": "code",
   "execution_count": 3,
   "metadata": {},
   "outputs": [],
   "source": [
    "from keras.preprocessing.image import load_img \n",
    "from keras.preprocessing.image import img_to_array \n",
    "from keras.applications.vgg16 import preprocess_input \n",
    "\n",
    "# models \n",
    "from keras.applications.vgg16 import VGG16 \n",
    "from keras.models import Model\n",
    "\n",
    "from sklearn.decomposition import PCA\n",
    "\n",
    "# for everything else\n",
    "import os\n",
    "import numpy as np\n",
    "import matplotlib.pyplot as plt\n",
    "from random import randint\n",
    "import pandas as pd\n",
    "import pickle\n"
   ]
  },
  {
   "cell_type": "code",
   "execution_count": 4,
   "metadata": {},
   "outputs": [
    {
     "name": "stdout",
     "output_type": "stream",
     "text": [
      "/Users/valencialie\n"
     ]
    }
   ],
   "source": [
    "cd"
   ]
  },
  {
   "cell_type": "code",
   "execution_count": 5,
   "metadata": {},
   "outputs": [
    {
     "name": "stdout",
     "output_type": "stream",
     "text": [
      "/Users/valencialie/Desktop/CZ1016_DS2/kdrama/Images/Male\n"
     ]
    }
   ],
   "source": [
    "cd Desktop/CZ1016_DS2/kdrama/Images/Male"
   ]
  },
  {
   "cell_type": "code",
   "execution_count": 6,
   "metadata": {},
   "outputs": [],
   "source": [
    "path = r\"/Users/valencialie/Desktop/CZ1016_DS2/kdrama/Images/Male\"\n",
    "# change the working directory to the path where the images are located\n",
    "os.chdir(path)"
   ]
  },
  {
   "cell_type": "code",
   "execution_count": 7,
   "metadata": {},
   "outputs": [],
   "source": [
    "actors = [] #create an empty list to store all the image files"
   ]
  },
  {
   "cell_type": "code",
   "execution_count": 8,
   "metadata": {},
   "outputs": [],
   "source": [
    "# creates a ScandirIterator aliased as files\n",
    "with os.scandir(path) as files:\n",
    "  # loops through each file in the directory\n",
    "    for file in files:\n",
    "        if file.name.endswith('.png'):\n",
    "          # adds only the image files to the flowers list\n",
    "            actors.append(file.name)"
   ]
  },
  {
   "cell_type": "code",
   "execution_count": 9,
   "metadata": {},
   "outputs": [
    {
     "data": {
      "text/plain": [
       "576"
      ]
     },
     "execution_count": 9,
     "metadata": {},
     "output_type": "execute_result"
    }
   ],
   "source": [
    "len(actors)"
   ]
  },
  {
   "cell_type": "code",
   "execution_count": 10,
   "metadata": {},
   "outputs": [
    {
     "name": "stdout",
     "output_type": "stream",
     "text": [
      "/Users/valencialie\n"
     ]
    }
   ],
   "source": [
    "cd"
   ]
  },
  {
   "cell_type": "code",
   "execution_count": 11,
   "metadata": {},
   "outputs": [
    {
     "name": "stdout",
     "output_type": "stream",
     "text": [
      "/Users/valencialie/Downloads/Images/Male\n"
     ]
    }
   ],
   "source": [
    "cd Downloads/Images/Male"
   ]
  },
  {
   "cell_type": "code",
   "execution_count": 12,
   "metadata": {},
   "outputs": [],
   "source": [
    "model = VGG16()\n",
    "model = Model(inputs = model.inputs, outputs = model.layers[-2].output)\n",
    "\n",
    "def extract_features(file, model):\n",
    "    # load the image as a 224x224 array\n",
    "    img = load_img(file, target_size=(224,224))\n",
    "    # convert from 'PIL.Image.Image' to numpy array\n",
    "    img = np.array(img) \n",
    "    # reshape the data for the model reshape(num_of_samples, dim 1, dim 2, channels 1 cause grayscale)\n",
    "    reshaped_img = img.reshape(1,224,224,3) \n",
    "    # prepare image for model\n",
    "    imgx = preprocess_input(reshaped_img)\n",
    "    # get the feature vector\n",
    "    features = model.predict(imgx, use_multiprocessing=True)\n",
    "    return features"
   ]
  },
  {
   "cell_type": "code",
   "execution_count": 13,
   "metadata": {},
   "outputs": [
    {
     "data": {
      "text/plain": [
       "(576, 4096)"
      ]
     },
     "execution_count": 13,
     "metadata": {},
     "output_type": "execute_result"
    }
   ],
   "source": [
    "data = {}\n",
    "\n",
    "# loop through each image in the dataset\n",
    "for actor in actors:\n",
    "    # try to extract the features and update the dictionary\n",
    "    try:\n",
    "        feat = extract_features(actor,model)\n",
    "        data[actor] = feat\n",
    "    except:\n",
    "        pass\n",
    "          \n",
    "# get a list of the filenames\n",
    "filenames = np.array(list(data.keys()))\n",
    "\n",
    "# get a list of just the features\n",
    "feat = np.array(list(data.values()))\n",
    "feat.shape\n",
    "\n",
    "feat = feat.reshape(-1,4096)\n",
    "feat.shape"
   ]
  },
  {
   "cell_type": "code",
   "execution_count": 14,
   "metadata": {
    "scrolled": true
   },
   "outputs": [],
   "source": [
    "pca = PCA(n_components=100, random_state=22)\n",
    "pca.fit(feat)\n",
    "x = pca.transform(feat)\n",
    "\n"
   ]
  },
  {
   "cell_type": "code",
   "execution_count": 15,
   "metadata": {},
   "outputs": [
    {
     "data": {
      "text/plain": [
       "576"
      ]
     },
     "execution_count": 15,
     "metadata": {},
     "output_type": "execute_result"
    }
   ],
   "source": [
    "len(x)"
   ]
  },
  {
   "cell_type": "code",
   "execution_count": 16,
   "metadata": {},
   "outputs": [],
   "source": [
    "array_list = list(x)\n"
   ]
  },
  {
   "cell_type": "code",
   "execution_count": 17,
   "metadata": {},
   "outputs": [],
   "source": [
    "array_label = list(data.keys())\n",
    "d = { label: value for label, value in zip(array_label, array_list) }"
   ]
  },
  {
   "cell_type": "code",
   "execution_count": 18,
   "metadata": {
    "scrolled": true
   },
   "outputs": [],
   "source": [
    "df = pd.DataFrame(d.items(), columns=['Actor', 'Array'])"
   ]
  },
  {
   "cell_type": "code",
   "execution_count": 19,
   "metadata": {},
   "outputs": [],
   "source": [
    "dist_list = []\n",
    "dist_list2 = []\n",
    "index = []\n",
    "zipped_lists = []\n",
    "sorted_zipped_lists = []\n",
    "top5 = []\n",
    "overall = []"
   ]
  },
  {
   "cell_type": "code",
   "execution_count": 20,
   "metadata": {},
   "outputs": [],
   "source": [
    "for j in range(0,576):\n",
    "    for i in range(0,576):\n",
    "        if i == j:\n",
    "            continue\n",
    "        else:\n",
    "            dist = np.linalg.norm(x[j]-x[i])\n",
    "            dist_list.append(dist)\n",
    "            dist_list2.append(dist)\n",
    "            index.append(i)\n",
    "            dist_list.sort()\n",
    "            top5 = dist_list[:5]\n",
    "            zipped_lists = zip(dist_list2, index)\n",
    "            sorted_zipped_lists = sorted(zipped_lists)\n",
    "            sorted_list1 = [element for _, element in sorted_zipped_lists]\n",
    "            top5.extend(sorted_list1[:5])\n",
    "    overall.append(top5)\n",
    "    dist_list = []\n",
    "    dist_list2 = []\n",
    "    index = []\n",
    "    zipped_lists = []\n",
    "    sorted_list1 =[]\n",
    "    top5 = []"
   ]
  },
  {
   "cell_type": "code",
   "execution_count": 21,
   "metadata": {
    "scrolled": false
   },
   "outputs": [],
   "source": [
    "# overall "
   ]
  },
  {
   "cell_type": "code",
   "execution_count": 22,
   "metadata": {
    "scrolled": true
   },
   "outputs": [],
   "source": [
    "df1 = pd.DataFrame(overall,columns=['Least_Array_Diff', '2ndLeast_Array_Diff','3rdLeast_Array_Diff', '4thLeast_Array_Diff', '5thLeast_Array_Diff', '1stMatch', '2ndMatch', '3rdMatch', '4thMatch', '5thMatch'])"
   ]
  },
  {
   "cell_type": "code",
   "execution_count": 23,
   "metadata": {},
   "outputs": [],
   "source": [
    "df2 = pd.concat([df, df1], axis = 1)"
   ]
  },
  {
   "cell_type": "code",
   "execution_count": 24,
   "metadata": {
    "scrolled": false
   },
   "outputs": [
    {
     "data": {
      "text/html": [
       "<div>\n",
       "<style scoped>\n",
       "    .dataframe tbody tr th:only-of-type {\n",
       "        vertical-align: middle;\n",
       "    }\n",
       "\n",
       "    .dataframe tbody tr th {\n",
       "        vertical-align: top;\n",
       "    }\n",
       "\n",
       "    .dataframe thead th {\n",
       "        text-align: right;\n",
       "    }\n",
       "</style>\n",
       "<table border=\"1\" class=\"dataframe\">\n",
       "  <thead>\n",
       "    <tr style=\"text-align: right;\">\n",
       "      <th></th>\n",
       "      <th>Actor</th>\n",
       "      <th>Array</th>\n",
       "      <th>Least_Array_Diff</th>\n",
       "      <th>2ndLeast_Array_Diff</th>\n",
       "      <th>3rdLeast_Array_Diff</th>\n",
       "      <th>4thLeast_Array_Diff</th>\n",
       "      <th>5thLeast_Array_Diff</th>\n",
       "      <th>1stMatch</th>\n",
       "      <th>2ndMatch</th>\n",
       "      <th>3rdMatch</th>\n",
       "      <th>4thMatch</th>\n",
       "      <th>5thMatch</th>\n",
       "    </tr>\n",
       "  </thead>\n",
       "  <tbody>\n",
       "    <tr>\n",
       "      <th>0</th>\n",
       "      <td>Park_Hae_Soo.png</td>\n",
       "      <td>[-4.117684, -9.592239, -7.871775, 1.1058365, 5...</td>\n",
       "      <td>30.715021</td>\n",
       "      <td>30.962044</td>\n",
       "      <td>33.221836</td>\n",
       "      <td>35.256233</td>\n",
       "      <td>35.511070</td>\n",
       "      <td>73</td>\n",
       "      <td>399</td>\n",
       "      <td>175</td>\n",
       "      <td>488</td>\n",
       "      <td>406</td>\n",
       "    </tr>\n",
       "    <tr>\n",
       "      <th>1</th>\n",
       "      <td>Lee_Jin_Wook.png</td>\n",
       "      <td>[65.89964, 15.4892235, -10.712205, -14.894704,...</td>\n",
       "      <td>39.949093</td>\n",
       "      <td>44.084579</td>\n",
       "      <td>47.698715</td>\n",
       "      <td>48.780590</td>\n",
       "      <td>49.159027</td>\n",
       "      <td>519</td>\n",
       "      <td>390</td>\n",
       "      <td>365</td>\n",
       "      <td>141</td>\n",
       "      <td>37</td>\n",
       "    </tr>\n",
       "    <tr>\n",
       "      <th>2</th>\n",
       "      <td>Kang_Min_Hyuk.png</td>\n",
       "      <td>[-12.266893, -7.2090816, 1.4790905, 9.8934355,...</td>\n",
       "      <td>26.389797</td>\n",
       "      <td>30.042631</td>\n",
       "      <td>30.068354</td>\n",
       "      <td>31.712767</td>\n",
       "      <td>31.934317</td>\n",
       "      <td>276</td>\n",
       "      <td>112</td>\n",
       "      <td>314</td>\n",
       "      <td>216</td>\n",
       "      <td>351</td>\n",
       "    </tr>\n",
       "    <tr>\n",
       "      <th>3</th>\n",
       "      <td>Yoon_Park.png</td>\n",
       "      <td>[-18.531435, 2.268928, -6.4732237, -1.7551794,...</td>\n",
       "      <td>30.235329</td>\n",
       "      <td>32.937115</td>\n",
       "      <td>33.250229</td>\n",
       "      <td>35.058430</td>\n",
       "      <td>35.874107</td>\n",
       "      <td>379</td>\n",
       "      <td>242</td>\n",
       "      <td>383</td>\n",
       "      <td>95</td>\n",
       "      <td>152</td>\n",
       "    </tr>\n",
       "    <tr>\n",
       "      <th>4</th>\n",
       "      <td>Joo_Won.png</td>\n",
       "      <td>[-2.5595207, 15.16615, -0.14534593, -0.7223856...</td>\n",
       "      <td>22.880953</td>\n",
       "      <td>25.406965</td>\n",
       "      <td>27.186726</td>\n",
       "      <td>27.307686</td>\n",
       "      <td>27.335983</td>\n",
       "      <td>199</td>\n",
       "      <td>243</td>\n",
       "      <td>567</td>\n",
       "      <td>535</td>\n",
       "      <td>449</td>\n",
       "    </tr>\n",
       "  </tbody>\n",
       "</table>\n",
       "</div>"
      ],
      "text/plain": [
       "               Actor                                              Array  \\\n",
       "0   Park_Hae_Soo.png  [-4.117684, -9.592239, -7.871775, 1.1058365, 5...   \n",
       "1   Lee_Jin_Wook.png  [65.89964, 15.4892235, -10.712205, -14.894704,...   \n",
       "2  Kang_Min_Hyuk.png  [-12.266893, -7.2090816, 1.4790905, 9.8934355,...   \n",
       "3      Yoon_Park.png  [-18.531435, 2.268928, -6.4732237, -1.7551794,...   \n",
       "4        Joo_Won.png  [-2.5595207, 15.16615, -0.14534593, -0.7223856...   \n",
       "\n",
       "   Least_Array_Diff  2ndLeast_Array_Diff  3rdLeast_Array_Diff  \\\n",
       "0         30.715021            30.962044            33.221836   \n",
       "1         39.949093            44.084579            47.698715   \n",
       "2         26.389797            30.042631            30.068354   \n",
       "3         30.235329            32.937115            33.250229   \n",
       "4         22.880953            25.406965            27.186726   \n",
       "\n",
       "   4thLeast_Array_Diff  5thLeast_Array_Diff  1stMatch  2ndMatch  3rdMatch  \\\n",
       "0            35.256233            35.511070        73       399       175   \n",
       "1            48.780590            49.159027       519       390       365   \n",
       "2            31.712767            31.934317       276       112       314   \n",
       "3            35.058430            35.874107       379       242       383   \n",
       "4            27.307686            27.335983       199       243       567   \n",
       "\n",
       "   4thMatch  5thMatch  \n",
       "0       488       406  \n",
       "1       141        37  \n",
       "2       216       351  \n",
       "3        95       152  \n",
       "4       535       449  "
      ]
     },
     "execution_count": 24,
     "metadata": {},
     "output_type": "execute_result"
    }
   ],
   "source": [
    "df2.head()"
   ]
  },
  {
   "cell_type": "code",
   "execution_count": 25,
   "metadata": {
    "scrolled": true
   },
   "outputs": [],
   "source": [
    "bestmatch = []\n",
    "\n",
    "for i in range(0,576):\n",
    "    bestmatch.append(df2.iloc[df2['1stMatch'][i], 0])\n",
    "    "
   ]
  },
  {
   "cell_type": "code",
   "execution_count": 26,
   "metadata": {},
   "outputs": [],
   "source": [
    "secondmatch = []\n",
    "\n",
    "for i in range(0,576):\n",
    "    secondmatch.append(df2.iloc[df2['2ndMatch'][i], 0])"
   ]
  },
  {
   "cell_type": "code",
   "execution_count": 27,
   "metadata": {},
   "outputs": [],
   "source": [
    "thirdmatch = []\n",
    "\n",
    "for i in range(0,576):\n",
    "    thirdmatch.append(df2.iloc[df2['3rdMatch'][i], 0])"
   ]
  },
  {
   "cell_type": "code",
   "execution_count": 28,
   "metadata": {},
   "outputs": [],
   "source": [
    "fourthmatch = []\n",
    "\n",
    "for i in range(0,576):\n",
    "    fourthmatch.append(df2.iloc[df2['4thMatch'][i], 0])"
   ]
  },
  {
   "cell_type": "code",
   "execution_count": 29,
   "metadata": {},
   "outputs": [],
   "source": [
    "fifthmatch = []\n",
    "\n",
    "for i in range(0,576):\n",
    "    fifthmatch.append(df2.iloc[df2['5thMatch'][i], 0])"
   ]
  },
  {
   "cell_type": "code",
   "execution_count": 30,
   "metadata": {},
   "outputs": [],
   "source": [
    "df3 = pd.DataFrame(bestmatch,columns=['Best_Match_Actor'])\n",
    "df4 = pd.DataFrame(secondmatch,columns=['Second_Match_Actor'])\n",
    "df5 = pd.DataFrame(thirdmatch,columns=['Third_Match_Actor'])\n",
    "df6 = pd.DataFrame(fourthmatch,columns=['Fourth_Match_Actor'])\n",
    "df7 = pd.DataFrame(fifthmatch,columns=['Fifth_Match_Actor'])"
   ]
  },
  {
   "cell_type": "code",
   "execution_count": 31,
   "metadata": {},
   "outputs": [],
   "source": [
    "df8 = pd.concat([df2, df3, df4, df5, df6, df7], axis = 1)"
   ]
  },
  {
   "cell_type": "code",
   "execution_count": 32,
   "metadata": {},
   "outputs": [
    {
     "data": {
      "text/html": [
       "<div>\n",
       "<style scoped>\n",
       "    .dataframe tbody tr th:only-of-type {\n",
       "        vertical-align: middle;\n",
       "    }\n",
       "\n",
       "    .dataframe tbody tr th {\n",
       "        vertical-align: top;\n",
       "    }\n",
       "\n",
       "    .dataframe thead th {\n",
       "        text-align: right;\n",
       "    }\n",
       "</style>\n",
       "<table border=\"1\" class=\"dataframe\">\n",
       "  <thead>\n",
       "    <tr style=\"text-align: right;\">\n",
       "      <th></th>\n",
       "      <th>Actor</th>\n",
       "      <th>Array</th>\n",
       "      <th>Least_Array_Diff</th>\n",
       "      <th>2ndLeast_Array_Diff</th>\n",
       "      <th>3rdLeast_Array_Diff</th>\n",
       "      <th>4thLeast_Array_Diff</th>\n",
       "      <th>5thLeast_Array_Diff</th>\n",
       "      <th>1stMatch</th>\n",
       "      <th>2ndMatch</th>\n",
       "      <th>3rdMatch</th>\n",
       "      <th>4thMatch</th>\n",
       "      <th>5thMatch</th>\n",
       "      <th>Best_Match_Actor</th>\n",
       "      <th>Second_Match_Actor</th>\n",
       "      <th>Third_Match_Actor</th>\n",
       "      <th>Fourth_Match_Actor</th>\n",
       "      <th>Fifth_Match_Actor</th>\n",
       "    </tr>\n",
       "  </thead>\n",
       "  <tbody>\n",
       "    <tr>\n",
       "      <th>0</th>\n",
       "      <td>Park_Hae_Soo.png</td>\n",
       "      <td>[-4.117684, -9.592239, -7.871775, 1.1058365, 5...</td>\n",
       "      <td>30.715021</td>\n",
       "      <td>30.962044</td>\n",
       "      <td>33.221836</td>\n",
       "      <td>35.256233</td>\n",
       "      <td>35.511070</td>\n",
       "      <td>73</td>\n",
       "      <td>399</td>\n",
       "      <td>175</td>\n",
       "      <td>488</td>\n",
       "      <td>406</td>\n",
       "      <td>Yeon_Jung_Hoon.png</td>\n",
       "      <td>Joo_Jin_Mo.png</td>\n",
       "      <td>Ahn_Nae_Sang.png</td>\n",
       "      <td>Ji_Hyun_Woo.png</td>\n",
       "      <td>Shin_Hyun_Soo.png</td>\n",
       "    </tr>\n",
       "    <tr>\n",
       "      <th>1</th>\n",
       "      <td>Lee_Jin_Wook.png</td>\n",
       "      <td>[65.89964, 15.4892235, -10.712205, -14.894704,...</td>\n",
       "      <td>39.949093</td>\n",
       "      <td>44.084579</td>\n",
       "      <td>47.698715</td>\n",
       "      <td>48.780590</td>\n",
       "      <td>49.159027</td>\n",
       "      <td>519</td>\n",
       "      <td>390</td>\n",
       "      <td>365</td>\n",
       "      <td>141</td>\n",
       "      <td>37</td>\n",
       "      <td>Kim_Sang_Joong.png</td>\n",
       "      <td>Lee_Bum_Soo.png</td>\n",
       "      <td>Kim_Myung_Min.png</td>\n",
       "      <td>Hong_Kyung_Min.png</td>\n",
       "      <td>Lee_Ji_Hoon.png</td>\n",
       "    </tr>\n",
       "    <tr>\n",
       "      <th>2</th>\n",
       "      <td>Kang_Min_Hyuk.png</td>\n",
       "      <td>[-12.266893, -7.2090816, 1.4790905, 9.8934355,...</td>\n",
       "      <td>26.389797</td>\n",
       "      <td>30.042631</td>\n",
       "      <td>30.068354</td>\n",
       "      <td>31.712767</td>\n",
       "      <td>31.934317</td>\n",
       "      <td>276</td>\n",
       "      <td>112</td>\n",
       "      <td>314</td>\n",
       "      <td>216</td>\n",
       "      <td>351</td>\n",
       "      <td>Lee_Jung_Jin.png</td>\n",
       "      <td>Lee_Jun_Ho.png</td>\n",
       "      <td>Yoo_Yeon_Seok.png</td>\n",
       "      <td>Kim_Jung_Hyun.png</td>\n",
       "      <td>Lee_Seung_Min.png</td>\n",
       "    </tr>\n",
       "    <tr>\n",
       "      <th>3</th>\n",
       "      <td>Yoon_Park.png</td>\n",
       "      <td>[-18.531435, 2.268928, -6.4732237, -1.7551794,...</td>\n",
       "      <td>30.235329</td>\n",
       "      <td>32.937115</td>\n",
       "      <td>33.250229</td>\n",
       "      <td>35.058430</td>\n",
       "      <td>35.874107</td>\n",
       "      <td>379</td>\n",
       "      <td>242</td>\n",
       "      <td>383</td>\n",
       "      <td>95</td>\n",
       "      <td>152</td>\n",
       "      <td>Ohn_Joo_Wan.png</td>\n",
       "      <td>Hoya.png</td>\n",
       "      <td>Choi_Byung_Mo.png</td>\n",
       "      <td>Hong_Jong_Hyun.png</td>\n",
       "      <td>Lee_Gi_Kwang.png</td>\n",
       "    </tr>\n",
       "    <tr>\n",
       "      <th>4</th>\n",
       "      <td>Joo_Won.png</td>\n",
       "      <td>[-2.5595207, 15.16615, -0.14534593, -0.7223856...</td>\n",
       "      <td>22.880953</td>\n",
       "      <td>25.406965</td>\n",
       "      <td>27.186726</td>\n",
       "      <td>27.307686</td>\n",
       "      <td>27.335983</td>\n",
       "      <td>199</td>\n",
       "      <td>243</td>\n",
       "      <td>567</td>\n",
       "      <td>535</td>\n",
       "      <td>449</td>\n",
       "      <td>Kim_Seon_Ho.png</td>\n",
       "      <td>Lee_Dong_Wook.png</td>\n",
       "      <td>Kwon_Yool.png</td>\n",
       "      <td>Yoon_Shi_Yoon.png</td>\n",
       "      <td>Noh_Jong_Hyun.png</td>\n",
       "    </tr>\n",
       "  </tbody>\n",
       "</table>\n",
       "</div>"
      ],
      "text/plain": [
       "               Actor                                              Array  \\\n",
       "0   Park_Hae_Soo.png  [-4.117684, -9.592239, -7.871775, 1.1058365, 5...   \n",
       "1   Lee_Jin_Wook.png  [65.89964, 15.4892235, -10.712205, -14.894704,...   \n",
       "2  Kang_Min_Hyuk.png  [-12.266893, -7.2090816, 1.4790905, 9.8934355,...   \n",
       "3      Yoon_Park.png  [-18.531435, 2.268928, -6.4732237, -1.7551794,...   \n",
       "4        Joo_Won.png  [-2.5595207, 15.16615, -0.14534593, -0.7223856...   \n",
       "\n",
       "   Least_Array_Diff  2ndLeast_Array_Diff  3rdLeast_Array_Diff  \\\n",
       "0         30.715021            30.962044            33.221836   \n",
       "1         39.949093            44.084579            47.698715   \n",
       "2         26.389797            30.042631            30.068354   \n",
       "3         30.235329            32.937115            33.250229   \n",
       "4         22.880953            25.406965            27.186726   \n",
       "\n",
       "   4thLeast_Array_Diff  5thLeast_Array_Diff  1stMatch  2ndMatch  3rdMatch  \\\n",
       "0            35.256233            35.511070        73       399       175   \n",
       "1            48.780590            49.159027       519       390       365   \n",
       "2            31.712767            31.934317       276       112       314   \n",
       "3            35.058430            35.874107       379       242       383   \n",
       "4            27.307686            27.335983       199       243       567   \n",
       "\n",
       "   4thMatch  5thMatch    Best_Match_Actor Second_Match_Actor  \\\n",
       "0       488       406  Yeon_Jung_Hoon.png     Joo_Jin_Mo.png   \n",
       "1       141        37  Kim_Sang_Joong.png    Lee_Bum_Soo.png   \n",
       "2       216       351    Lee_Jung_Jin.png     Lee_Jun_Ho.png   \n",
       "3        95       152     Ohn_Joo_Wan.png           Hoya.png   \n",
       "4       535       449     Kim_Seon_Ho.png  Lee_Dong_Wook.png   \n",
       "\n",
       "   Third_Match_Actor  Fourth_Match_Actor  Fifth_Match_Actor  \n",
       "0   Ahn_Nae_Sang.png     Ji_Hyun_Woo.png  Shin_Hyun_Soo.png  \n",
       "1  Kim_Myung_Min.png  Hong_Kyung_Min.png    Lee_Ji_Hoon.png  \n",
       "2  Yoo_Yeon_Seok.png   Kim_Jung_Hyun.png  Lee_Seung_Min.png  \n",
       "3  Choi_Byung_Mo.png  Hong_Jong_Hyun.png   Lee_Gi_Kwang.png  \n",
       "4      Kwon_Yool.png   Yoon_Shi_Yoon.png  Noh_Jong_Hyun.png  "
      ]
     },
     "execution_count": 32,
     "metadata": {},
     "output_type": "execute_result"
    }
   ],
   "source": [
    "df8.head()"
   ]
  },
  {
   "cell_type": "code",
   "execution_count": 33,
   "metadata": {},
   "outputs": [],
   "source": [
    "path = r\"/Users/valencialie/Desktop/CZ1016_DS2/kdrama/Images/Female\"\n",
    "# change the working directory to the path where the images are located\n",
    "os.chdir(path)"
   ]
  },
  {
   "cell_type": "code",
   "execution_count": 34,
   "metadata": {},
   "outputs": [],
   "source": [
    "actresses = []"
   ]
  },
  {
   "cell_type": "code",
   "execution_count": 35,
   "metadata": {},
   "outputs": [],
   "source": [
    "# creates a ScandirIterator aliased as files\n",
    "with os.scandir(path) as files:\n",
    "  # loops through each file in the directory\n",
    "    for file in files:\n",
    "        if file.name.endswith('.png'):\n",
    "          # adds only the image files to the flowers list\n",
    "            actresses.append(file.name)"
   ]
  },
  {
   "cell_type": "code",
   "execution_count": 36,
   "metadata": {},
   "outputs": [
    {
     "data": {
      "text/plain": [
       "474"
      ]
     },
     "execution_count": 36,
     "metadata": {},
     "output_type": "execute_result"
    }
   ],
   "source": [
    "len(actresses)"
   ]
  },
  {
   "cell_type": "code",
   "execution_count": 37,
   "metadata": {},
   "outputs": [
    {
     "name": "stdout",
     "output_type": "stream",
     "text": [
      "/Users/valencialie\n"
     ]
    }
   ],
   "source": [
    "cd"
   ]
  },
  {
   "cell_type": "code",
   "execution_count": 38,
   "metadata": {},
   "outputs": [
    {
     "name": "stdout",
     "output_type": "stream",
     "text": [
      "/Users/valencialie/Desktop/CZ1016_DS2/kdrama/Images/Female\n"
     ]
    }
   ],
   "source": [
    "cd Desktop/CZ1016_DS2/kdrama/Images/Female"
   ]
  },
  {
   "cell_type": "code",
   "execution_count": 39,
   "metadata": {},
   "outputs": [],
   "source": [
    "dataF = {}"
   ]
  },
  {
   "cell_type": "code",
   "execution_count": 40,
   "metadata": {},
   "outputs": [
    {
     "data": {
      "text/plain": [
       "(474, 4096)"
      ]
     },
     "execution_count": 40,
     "metadata": {},
     "output_type": "execute_result"
    }
   ],
   "source": [
    "# loop through each image in the dataset\n",
    "for actress in actresses:\n",
    "    # try to extract the features and update the dictionary\n",
    "    try:\n",
    "        featF = extract_features(actress,model)\n",
    "        dataF[actress] = featF\n",
    "    except:\n",
    "        pass\n",
    "          \n",
    "# get a list of the filenames\n",
    "filenamesF = np.array(list(dataF.keys()))\n",
    "\n",
    "# get a list of just the features\n",
    "featF = np.array(list(dataF.values()))\n",
    "featF.shape\n",
    "\n",
    "featF = featF.reshape(-1,4096)\n",
    "featF.shape"
   ]
  },
  {
   "cell_type": "code",
   "execution_count": 41,
   "metadata": {},
   "outputs": [],
   "source": [
    "pca = PCA(n_components=100, random_state=22)\n",
    "pca.fit(featF)\n",
    "xF = pca.transform(featF)"
   ]
  },
  {
   "cell_type": "code",
   "execution_count": 42,
   "metadata": {},
   "outputs": [
    {
     "data": {
      "text/plain": [
       "474"
      ]
     },
     "execution_count": 42,
     "metadata": {},
     "output_type": "execute_result"
    }
   ],
   "source": [
    "len(xF)"
   ]
  },
  {
   "cell_type": "code",
   "execution_count": 43,
   "metadata": {},
   "outputs": [],
   "source": [
    "array_listF = list(xF)"
   ]
  },
  {
   "cell_type": "code",
   "execution_count": 44,
   "metadata": {},
   "outputs": [],
   "source": [
    "array_labelF = list(dataF.keys())\n",
    "F = { label: value for label, value in zip(array_labelF, array_listF) }"
   ]
  },
  {
   "cell_type": "code",
   "execution_count": 45,
   "metadata": {},
   "outputs": [],
   "source": [
    "dF = pd.DataFrame(F.items(), columns=['Actress', 'Array'])"
   ]
  },
  {
   "cell_type": "code",
   "execution_count": 46,
   "metadata": {
    "scrolled": true
   },
   "outputs": [
    {
     "data": {
      "text/html": [
       "<div>\n",
       "<style scoped>\n",
       "    .dataframe tbody tr th:only-of-type {\n",
       "        vertical-align: middle;\n",
       "    }\n",
       "\n",
       "    .dataframe tbody tr th {\n",
       "        vertical-align: top;\n",
       "    }\n",
       "\n",
       "    .dataframe thead th {\n",
       "        text-align: right;\n",
       "    }\n",
       "</style>\n",
       "<table border=\"1\" class=\"dataframe\">\n",
       "  <thead>\n",
       "    <tr style=\"text-align: right;\">\n",
       "      <th></th>\n",
       "      <th>Actress</th>\n",
       "      <th>Array</th>\n",
       "    </tr>\n",
       "  </thead>\n",
       "  <tbody>\n",
       "    <tr>\n",
       "      <th>0</th>\n",
       "      <td>Jeon_Hye_Jin.png</td>\n",
       "      <td>[10.057037, -5.9373493, 0.34505993, -12.092998...</td>\n",
       "    </tr>\n",
       "    <tr>\n",
       "      <th>1</th>\n",
       "      <td>Kim_Hyun_Soo.png</td>\n",
       "      <td>[2.198409, -10.022728, 0.036321774, 4.9317007,...</td>\n",
       "    </tr>\n",
       "    <tr>\n",
       "      <th>2</th>\n",
       "      <td>Im_Soo_Jung.png</td>\n",
       "      <td>[-2.597886, -12.319992, 9.091196, -1.5792747, ...</td>\n",
       "    </tr>\n",
       "    <tr>\n",
       "      <th>3</th>\n",
       "      <td>Bae_Hae_Seon.png</td>\n",
       "      <td>[24.630611, 0.7530353, -2.7690136, -22.539837,...</td>\n",
       "    </tr>\n",
       "    <tr>\n",
       "      <th>4</th>\n",
       "      <td>Choi_Kang_Hee.png</td>\n",
       "      <td>[10.8650255, -0.5788472, 13.763874, 1.0320615,...</td>\n",
       "    </tr>\n",
       "  </tbody>\n",
       "</table>\n",
       "</div>"
      ],
      "text/plain": [
       "             Actress                                              Array\n",
       "0   Jeon_Hye_Jin.png  [10.057037, -5.9373493, 0.34505993, -12.092998...\n",
       "1   Kim_Hyun_Soo.png  [2.198409, -10.022728, 0.036321774, 4.9317007,...\n",
       "2    Im_Soo_Jung.png  [-2.597886, -12.319992, 9.091196, -1.5792747, ...\n",
       "3   Bae_Hae_Seon.png  [24.630611, 0.7530353, -2.7690136, -22.539837,...\n",
       "4  Choi_Kang_Hee.png  [10.8650255, -0.5788472, 13.763874, 1.0320615,..."
      ]
     },
     "execution_count": 46,
     "metadata": {},
     "output_type": "execute_result"
    }
   ],
   "source": [
    "dF.head()"
   ]
  },
  {
   "cell_type": "code",
   "execution_count": 47,
   "metadata": {},
   "outputs": [],
   "source": [
    "dist_list = []\n",
    "dist_list2 = []\n",
    "index = []\n",
    "zipped_lists = []\n",
    "sorted_zipped_lists = []\n",
    "top5 = []\n",
    "overallF = []"
   ]
  },
  {
   "cell_type": "code",
   "execution_count": 48,
   "metadata": {},
   "outputs": [],
   "source": [
    "for j in range(0,474):\n",
    "    for i in range(0,474):\n",
    "        if i == j:\n",
    "            continue\n",
    "        else:\n",
    "            dist = np.linalg.norm(xF[j]-xF[i])\n",
    "            dist_list.append(dist)\n",
    "            dist_list2.append(dist)\n",
    "            index.append(i)\n",
    "            dist_list.sort()\n",
    "            top5 = dist_list[:5]\n",
    "            zipped_lists = zip(dist_list2, index)\n",
    "            sorted_zipped_lists = sorted(zipped_lists)\n",
    "            sorted_list1 = [element for _, element in sorted_zipped_lists]\n",
    "            top5.extend(sorted_list1[:5])\n",
    "    overallF.append(top5)\n",
    "    dist_list = []\n",
    "    dist_list2 = []\n",
    "    index = []\n",
    "    zipped_lists = []\n",
    "    sorted_list1 =[]\n",
    "    top5 = []"
   ]
  },
  {
   "cell_type": "code",
   "execution_count": 49,
   "metadata": {},
   "outputs": [],
   "source": [
    "dF1 = pd.DataFrame(overallF,columns=['Least_Array_Diff', '2ndLeast_Array_Diff','3rdLeast_Array_Diff', '4thLeast_Array_Diff', '5thLeast_Array_Diff', '1stMatch', '2ndMatch', '3rdMatch', '4thMatch', '5thMatch'])"
   ]
  },
  {
   "cell_type": "code",
   "execution_count": 50,
   "metadata": {},
   "outputs": [],
   "source": [
    "dF2 = pd.concat([dF, dF1], axis = 1)"
   ]
  },
  {
   "cell_type": "code",
   "execution_count": 51,
   "metadata": {},
   "outputs": [
    {
     "data": {
      "text/html": [
       "<div>\n",
       "<style scoped>\n",
       "    .dataframe tbody tr th:only-of-type {\n",
       "        vertical-align: middle;\n",
       "    }\n",
       "\n",
       "    .dataframe tbody tr th {\n",
       "        vertical-align: top;\n",
       "    }\n",
       "\n",
       "    .dataframe thead th {\n",
       "        text-align: right;\n",
       "    }\n",
       "</style>\n",
       "<table border=\"1\" class=\"dataframe\">\n",
       "  <thead>\n",
       "    <tr style=\"text-align: right;\">\n",
       "      <th></th>\n",
       "      <th>Actress</th>\n",
       "      <th>Array</th>\n",
       "      <th>Least_Array_Diff</th>\n",
       "      <th>2ndLeast_Array_Diff</th>\n",
       "      <th>3rdLeast_Array_Diff</th>\n",
       "      <th>4thLeast_Array_Diff</th>\n",
       "      <th>5thLeast_Array_Diff</th>\n",
       "      <th>1stMatch</th>\n",
       "      <th>2ndMatch</th>\n",
       "      <th>3rdMatch</th>\n",
       "      <th>4thMatch</th>\n",
       "      <th>5thMatch</th>\n",
       "    </tr>\n",
       "  </thead>\n",
       "  <tbody>\n",
       "    <tr>\n",
       "      <th>0</th>\n",
       "      <td>Jeon_Hye_Jin.png</td>\n",
       "      <td>[10.057037, -5.9373493, 0.34505993, -12.092998...</td>\n",
       "      <td>27.373398</td>\n",
       "      <td>27.758600</td>\n",
       "      <td>28.542065</td>\n",
       "      <td>28.774691</td>\n",
       "      <td>28.893175</td>\n",
       "      <td>349</td>\n",
       "      <td>47</td>\n",
       "      <td>413</td>\n",
       "      <td>376</td>\n",
       "      <td>275</td>\n",
       "    </tr>\n",
       "    <tr>\n",
       "      <th>1</th>\n",
       "      <td>Kim_Hyun_Soo.png</td>\n",
       "      <td>[2.198409, -10.022728, 0.036321774, 4.9317007,...</td>\n",
       "      <td>17.859856</td>\n",
       "      <td>19.096994</td>\n",
       "      <td>20.494192</td>\n",
       "      <td>21.847498</td>\n",
       "      <td>23.016798</td>\n",
       "      <td>47</td>\n",
       "      <td>63</td>\n",
       "      <td>413</td>\n",
       "      <td>100</td>\n",
       "      <td>249</td>\n",
       "    </tr>\n",
       "    <tr>\n",
       "      <th>2</th>\n",
       "      <td>Im_Soo_Jung.png</td>\n",
       "      <td>[-2.597886, -12.319992, 9.091196, -1.5792747, ...</td>\n",
       "      <td>27.188494</td>\n",
       "      <td>29.429840</td>\n",
       "      <td>29.550230</td>\n",
       "      <td>29.815596</td>\n",
       "      <td>30.265022</td>\n",
       "      <td>115</td>\n",
       "      <td>23</td>\n",
       "      <td>245</td>\n",
       "      <td>230</td>\n",
       "      <td>29</td>\n",
       "    </tr>\n",
       "    <tr>\n",
       "      <th>3</th>\n",
       "      <td>Bae_Hae_Seon.png</td>\n",
       "      <td>[24.630611, 0.7530353, -2.7690136, -22.539837,...</td>\n",
       "      <td>28.366072</td>\n",
       "      <td>34.246185</td>\n",
       "      <td>37.451447</td>\n",
       "      <td>37.535973</td>\n",
       "      <td>37.550652</td>\n",
       "      <td>39</td>\n",
       "      <td>28</td>\n",
       "      <td>0</td>\n",
       "      <td>102</td>\n",
       "      <td>54</td>\n",
       "    </tr>\n",
       "    <tr>\n",
       "      <th>4</th>\n",
       "      <td>Choi_Kang_Hee.png</td>\n",
       "      <td>[10.8650255, -0.5788472, 13.763874, 1.0320615,...</td>\n",
       "      <td>29.160507</td>\n",
       "      <td>31.255350</td>\n",
       "      <td>33.890415</td>\n",
       "      <td>34.438023</td>\n",
       "      <td>34.561924</td>\n",
       "      <td>235</td>\n",
       "      <td>352</td>\n",
       "      <td>88</td>\n",
       "      <td>167</td>\n",
       "      <td>140</td>\n",
       "    </tr>\n",
       "  </tbody>\n",
       "</table>\n",
       "</div>"
      ],
      "text/plain": [
       "             Actress                                              Array  \\\n",
       "0   Jeon_Hye_Jin.png  [10.057037, -5.9373493, 0.34505993, -12.092998...   \n",
       "1   Kim_Hyun_Soo.png  [2.198409, -10.022728, 0.036321774, 4.9317007,...   \n",
       "2    Im_Soo_Jung.png  [-2.597886, -12.319992, 9.091196, -1.5792747, ...   \n",
       "3   Bae_Hae_Seon.png  [24.630611, 0.7530353, -2.7690136, -22.539837,...   \n",
       "4  Choi_Kang_Hee.png  [10.8650255, -0.5788472, 13.763874, 1.0320615,...   \n",
       "\n",
       "   Least_Array_Diff  2ndLeast_Array_Diff  3rdLeast_Array_Diff  \\\n",
       "0         27.373398            27.758600            28.542065   \n",
       "1         17.859856            19.096994            20.494192   \n",
       "2         27.188494            29.429840            29.550230   \n",
       "3         28.366072            34.246185            37.451447   \n",
       "4         29.160507            31.255350            33.890415   \n",
       "\n",
       "   4thLeast_Array_Diff  5thLeast_Array_Diff  1stMatch  2ndMatch  3rdMatch  \\\n",
       "0            28.774691            28.893175       349        47       413   \n",
       "1            21.847498            23.016798        47        63       413   \n",
       "2            29.815596            30.265022       115        23       245   \n",
       "3            37.535973            37.550652        39        28         0   \n",
       "4            34.438023            34.561924       235       352        88   \n",
       "\n",
       "   4thMatch  5thMatch  \n",
       "0       376       275  \n",
       "1       100       249  \n",
       "2       230        29  \n",
       "3       102        54  \n",
       "4       167       140  "
      ]
     },
     "execution_count": 51,
     "metadata": {},
     "output_type": "execute_result"
    }
   ],
   "source": [
    "dF2.head()"
   ]
  },
  {
   "cell_type": "code",
   "execution_count": 52,
   "metadata": {},
   "outputs": [],
   "source": [
    "bestmatchF = []\n",
    "\n",
    "for i in range(0,474):\n",
    "    bestmatchF.append(dF2.iloc[dF2['1stMatch'][i], 0])"
   ]
  },
  {
   "cell_type": "code",
   "execution_count": 53,
   "metadata": {},
   "outputs": [],
   "source": [
    "secondmatchF = []\n",
    "\n",
    "for i in range(0,474):\n",
    "    secondmatchF.append(dF2.iloc[dF2['2ndMatch'][i], 0])"
   ]
  },
  {
   "cell_type": "code",
   "execution_count": 54,
   "metadata": {},
   "outputs": [],
   "source": [
    "thirdmatchF = []\n",
    "\n",
    "for i in range(0,474):\n",
    "    thirdmatchF.append(dF2.iloc[dF2['3rdMatch'][i], 0])\n",
    "    \n",
    "fourthmatchF = []\n",
    "\n",
    "for i in range(0,474):\n",
    "    fourthmatchF.append(dF2.iloc[dF2['4thMatch'][i], 0])\n",
    "    \n",
    "fifthmatchF = []\n",
    "\n",
    "for i in range(0,474):\n",
    "    fifthmatchF.append(dF2.iloc[dF2['5thMatch'][i], 0])"
   ]
  },
  {
   "cell_type": "code",
   "execution_count": 55,
   "metadata": {},
   "outputs": [],
   "source": [
    "dF3 = pd.DataFrame(bestmatchF,columns=['Best_Match_Actress'])\n",
    "dF4 = pd.DataFrame(secondmatchF,columns=['Second_Match_Actress'])\n",
    "dF5 = pd.DataFrame(thirdmatchF,columns=['Third_Match_Actress'])\n",
    "dF6 = pd.DataFrame(fourthmatchF,columns=['Fourth_Match_Actress'])\n",
    "dF7 = pd.DataFrame(fifthmatchF,columns=['Fifth_Match_Actress'])"
   ]
  },
  {
   "cell_type": "code",
   "execution_count": 56,
   "metadata": {},
   "outputs": [],
   "source": [
    "dF8 = pd.concat([dF2, dF3, dF4, dF5, dF6, dF7], axis = 1)"
   ]
  },
  {
   "cell_type": "code",
   "execution_count": 57,
   "metadata": {},
   "outputs": [
    {
     "data": {
      "text/html": [
       "<div>\n",
       "<style scoped>\n",
       "    .dataframe tbody tr th:only-of-type {\n",
       "        vertical-align: middle;\n",
       "    }\n",
       "\n",
       "    .dataframe tbody tr th {\n",
       "        vertical-align: top;\n",
       "    }\n",
       "\n",
       "    .dataframe thead th {\n",
       "        text-align: right;\n",
       "    }\n",
       "</style>\n",
       "<table border=\"1\" class=\"dataframe\">\n",
       "  <thead>\n",
       "    <tr style=\"text-align: right;\">\n",
       "      <th></th>\n",
       "      <th>Actress</th>\n",
       "      <th>Array</th>\n",
       "      <th>Least_Array_Diff</th>\n",
       "      <th>2ndLeast_Array_Diff</th>\n",
       "      <th>3rdLeast_Array_Diff</th>\n",
       "      <th>4thLeast_Array_Diff</th>\n",
       "      <th>5thLeast_Array_Diff</th>\n",
       "      <th>1stMatch</th>\n",
       "      <th>2ndMatch</th>\n",
       "      <th>3rdMatch</th>\n",
       "      <th>4thMatch</th>\n",
       "      <th>5thMatch</th>\n",
       "      <th>Best_Match_Actress</th>\n",
       "      <th>Second_Match_Actress</th>\n",
       "      <th>Third_Match_Actress</th>\n",
       "      <th>Fourth_Match_Actress</th>\n",
       "      <th>Fifth_Match_Actress</th>\n",
       "    </tr>\n",
       "  </thead>\n",
       "  <tbody>\n",
       "    <tr>\n",
       "      <th>0</th>\n",
       "      <td>Jeon_Hye_Jin.png</td>\n",
       "      <td>[10.057037, -5.9373493, 0.34505993, -12.092998...</td>\n",
       "      <td>27.373398</td>\n",
       "      <td>27.758600</td>\n",
       "      <td>28.542065</td>\n",
       "      <td>28.774691</td>\n",
       "      <td>28.893175</td>\n",
       "      <td>349</td>\n",
       "      <td>47</td>\n",
       "      <td>413</td>\n",
       "      <td>376</td>\n",
       "      <td>275</td>\n",
       "      <td>Lee_Elijah.png</td>\n",
       "      <td>Jung_Da_Bin.png</td>\n",
       "      <td>Han_Ye_Seul.png</td>\n",
       "      <td>Jeon_Hye_Bin.png</td>\n",
       "      <td>Kim_Hye_Yoon.png</td>\n",
       "    </tr>\n",
       "    <tr>\n",
       "      <th>1</th>\n",
       "      <td>Kim_Hyun_Soo.png</td>\n",
       "      <td>[2.198409, -10.022728, 0.036321774, 4.9317007,...</td>\n",
       "      <td>17.859856</td>\n",
       "      <td>19.096994</td>\n",
       "      <td>20.494192</td>\n",
       "      <td>21.847498</td>\n",
       "      <td>23.016798</td>\n",
       "      <td>47</td>\n",
       "      <td>63</td>\n",
       "      <td>413</td>\n",
       "      <td>100</td>\n",
       "      <td>249</td>\n",
       "      <td>Jung_Da_Bin.png</td>\n",
       "      <td>Go_Won_Hee.png</td>\n",
       "      <td>Han_Ye_Seul.png</td>\n",
       "      <td>Jung_Ji_Yeon.png</td>\n",
       "      <td>Joo_Min_Kyung.png</td>\n",
       "    </tr>\n",
       "    <tr>\n",
       "      <th>2</th>\n",
       "      <td>Im_Soo_Jung.png</td>\n",
       "      <td>[-2.597886, -12.319992, 9.091196, -1.5792747, ...</td>\n",
       "      <td>27.188494</td>\n",
       "      <td>29.429840</td>\n",
       "      <td>29.550230</td>\n",
       "      <td>29.815596</td>\n",
       "      <td>30.265022</td>\n",
       "      <td>115</td>\n",
       "      <td>23</td>\n",
       "      <td>245</td>\n",
       "      <td>230</td>\n",
       "      <td>29</td>\n",
       "      <td>Han__Sun_Hwa.png</td>\n",
       "      <td>Kim_Sa_Rang.png</td>\n",
       "      <td>Shin_Rin_Ah.png</td>\n",
       "      <td>Jang_Hee_Ryung.png</td>\n",
       "      <td>Park_Ha_Sun.png</td>\n",
       "    </tr>\n",
       "    <tr>\n",
       "      <th>3</th>\n",
       "      <td>Bae_Hae_Seon.png</td>\n",
       "      <td>[24.630611, 0.7530353, -2.7690136, -22.539837,...</td>\n",
       "      <td>28.366072</td>\n",
       "      <td>34.246185</td>\n",
       "      <td>37.451447</td>\n",
       "      <td>37.535973</td>\n",
       "      <td>37.550652</td>\n",
       "      <td>39</td>\n",
       "      <td>28</td>\n",
       "      <td>0</td>\n",
       "      <td>102</td>\n",
       "      <td>54</td>\n",
       "      <td>Go_Doo_Shim.png</td>\n",
       "      <td>Kim_Hye_Eun.png</td>\n",
       "      <td>Jeon_Hye_Jin.png</td>\n",
       "      <td>Kim_Young_Ok.png</td>\n",
       "      <td>Lee_Yeol_Eum.png</td>\n",
       "    </tr>\n",
       "    <tr>\n",
       "      <th>4</th>\n",
       "      <td>Choi_Kang_Hee.png</td>\n",
       "      <td>[10.8650255, -0.5788472, 13.763874, 1.0320615,...</td>\n",
       "      <td>29.160507</td>\n",
       "      <td>31.255350</td>\n",
       "      <td>33.890415</td>\n",
       "      <td>34.438023</td>\n",
       "      <td>34.561924</td>\n",
       "      <td>235</td>\n",
       "      <td>352</td>\n",
       "      <td>88</td>\n",
       "      <td>167</td>\n",
       "      <td>140</td>\n",
       "      <td>Lee_Bo_Young.png</td>\n",
       "      <td>Jung_Ae_Yun.png</td>\n",
       "      <td>Yeom_Jung_Ah.png</td>\n",
       "      <td>Yeom_Hye_Ran.png</td>\n",
       "      <td>Jo_Hye_Joo.png</td>\n",
       "    </tr>\n",
       "  </tbody>\n",
       "</table>\n",
       "</div>"
      ],
      "text/plain": [
       "             Actress                                              Array  \\\n",
       "0   Jeon_Hye_Jin.png  [10.057037, -5.9373493, 0.34505993, -12.092998...   \n",
       "1   Kim_Hyun_Soo.png  [2.198409, -10.022728, 0.036321774, 4.9317007,...   \n",
       "2    Im_Soo_Jung.png  [-2.597886, -12.319992, 9.091196, -1.5792747, ...   \n",
       "3   Bae_Hae_Seon.png  [24.630611, 0.7530353, -2.7690136, -22.539837,...   \n",
       "4  Choi_Kang_Hee.png  [10.8650255, -0.5788472, 13.763874, 1.0320615,...   \n",
       "\n",
       "   Least_Array_Diff  2ndLeast_Array_Diff  3rdLeast_Array_Diff  \\\n",
       "0         27.373398            27.758600            28.542065   \n",
       "1         17.859856            19.096994            20.494192   \n",
       "2         27.188494            29.429840            29.550230   \n",
       "3         28.366072            34.246185            37.451447   \n",
       "4         29.160507            31.255350            33.890415   \n",
       "\n",
       "   4thLeast_Array_Diff  5thLeast_Array_Diff  1stMatch  2ndMatch  3rdMatch  \\\n",
       "0            28.774691            28.893175       349        47       413   \n",
       "1            21.847498            23.016798        47        63       413   \n",
       "2            29.815596            30.265022       115        23       245   \n",
       "3            37.535973            37.550652        39        28         0   \n",
       "4            34.438023            34.561924       235       352        88   \n",
       "\n",
       "   4thMatch  5thMatch Best_Match_Actress Second_Match_Actress  \\\n",
       "0       376       275     Lee_Elijah.png      Jung_Da_Bin.png   \n",
       "1       100       249    Jung_Da_Bin.png       Go_Won_Hee.png   \n",
       "2       230        29   Han__Sun_Hwa.png      Kim_Sa_Rang.png   \n",
       "3       102        54    Go_Doo_Shim.png      Kim_Hye_Eun.png   \n",
       "4       167       140   Lee_Bo_Young.png      Jung_Ae_Yun.png   \n",
       "\n",
       "  Third_Match_Actress Fourth_Match_Actress Fifth_Match_Actress  \n",
       "0     Han_Ye_Seul.png     Jeon_Hye_Bin.png    Kim_Hye_Yoon.png  \n",
       "1     Han_Ye_Seul.png     Jung_Ji_Yeon.png   Joo_Min_Kyung.png  \n",
       "2     Shin_Rin_Ah.png   Jang_Hee_Ryung.png     Park_Ha_Sun.png  \n",
       "3    Jeon_Hye_Jin.png     Kim_Young_Ok.png    Lee_Yeol_Eum.png  \n",
       "4    Yeom_Jung_Ah.png     Yeom_Hye_Ran.png      Jo_Hye_Joo.png  "
      ]
     },
     "execution_count": 57,
     "metadata": {},
     "output_type": "execute_result"
    }
   ],
   "source": [
    "dF8.head()"
   ]
  },
  {
   "cell_type": "code",
   "execution_count": 211,
   "metadata": {},
   "outputs": [],
   "source": [
    "#dF8.to_csv(\"actress.csv\")"
   ]
  },
  {
   "cell_type": "code",
   "execution_count": 213,
   "metadata": {},
   "outputs": [],
   "source": [
    "#df8.to_csv(\"actor.csv\")"
   ]
  }
 ],
 "metadata": {
  "kernelspec": {
   "display_name": "Python 3",
   "language": "python",
   "name": "python3"
  },
  "language_info": {
   "codemirror_mode": {
    "name": "ipython",
    "version": 3
   },
   "file_extension": ".py",
   "mimetype": "text/x-python",
   "name": "python",
   "nbconvert_exporter": "python",
   "pygments_lexer": "ipython3",
   "version": "3.8.5"
  }
 },
 "nbformat": 4,
 "nbformat_minor": 4
}
