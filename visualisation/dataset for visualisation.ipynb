{
 "cells": [
  {
   "cell_type": "code",
   "execution_count": 44,
   "metadata": {},
   "outputs": [],
   "source": [
    "import pandas as pd\n",
    "import numpy as np\n",
    "import seaborn as sns\n",
    "import math\n"
   ]
  },
  {
   "cell_type": "code",
   "execution_count": 7,
   "metadata": {
    "scrolled": true
   },
   "outputs": [],
   "source": [
    "senti = pd.read_csv(\"senti_clean.csv\")"
   ]
  },
  {
   "cell_type": "code",
   "execution_count": 8,
   "metadata": {
    "scrolled": true
   },
   "outputs": [],
   "source": [
    "a = senti.actor1.unique()"
   ]
  },
  {
   "cell_type": "code",
   "execution_count": 12,
   "metadata": {},
   "outputs": [],
   "source": [
    "b = senti.actor2.unique()"
   ]
  },
  {
   "cell_type": "code",
   "execution_count": 13,
   "metadata": {},
   "outputs": [],
   "source": [
    "c = np.concatenate((a, b))"
   ]
  },
  {
   "cell_type": "code",
   "execution_count": 14,
   "metadata": {},
   "outputs": [],
   "source": [
    "c = np.unique(c)"
   ]
  },
  {
   "cell_type": "code",
   "execution_count": 15,
   "metadata": {},
   "outputs": [],
   "source": [
    "d = pd.DataFrame(c, columns = [\"actor\"])"
   ]
  },
  {
   "cell_type": "code",
   "execution_count": 16,
   "metadata": {},
   "outputs": [
    {
     "data": {
      "text/html": [
       "<div>\n",
       "<style scoped>\n",
       "    .dataframe tbody tr th:only-of-type {\n",
       "        vertical-align: middle;\n",
       "    }\n",
       "\n",
       "    .dataframe tbody tr th {\n",
       "        vertical-align: top;\n",
       "    }\n",
       "\n",
       "    .dataframe thead th {\n",
       "        text-align: right;\n",
       "    }\n",
       "</style>\n",
       "<table border=\"1\" class=\"dataframe\">\n",
       "  <thead>\n",
       "    <tr style=\"text-align: right;\">\n",
       "      <th></th>\n",
       "      <th>actor</th>\n",
       "    </tr>\n",
       "  </thead>\n",
       "  <tbody>\n",
       "    <tr>\n",
       "      <th>0</th>\n",
       "      <td>AhnHyoSeop</td>\n",
       "    </tr>\n",
       "    <tr>\n",
       "      <th>1</th>\n",
       "      <td>BaeSuzy</td>\n",
       "    </tr>\n",
       "    <tr>\n",
       "      <th>2</th>\n",
       "      <td>BangMinAh</td>\n",
       "    </tr>\n",
       "    <tr>\n",
       "      <th>3</th>\n",
       "      <td>ChaEunWoo</td>\n",
       "    </tr>\n",
       "    <tr>\n",
       "      <th>4</th>\n",
       "      <td>ChaSeungWon</td>\n",
       "    </tr>\n",
       "    <tr>\n",
       "      <th>...</th>\n",
       "      <td>...</td>\n",
       "    </tr>\n",
       "    <tr>\n",
       "      <th>123</th>\n",
       "      <td>YooAhIn</td>\n",
       "    </tr>\n",
       "    <tr>\n",
       "      <th>124</th>\n",
       "      <td>YooInNa</td>\n",
       "    </tr>\n",
       "    <tr>\n",
       "      <th>125</th>\n",
       "      <td>YooJun</td>\n",
       "    </tr>\n",
       "    <tr>\n",
       "      <th>126</th>\n",
       "      <td>YooSeungHo</td>\n",
       "    </tr>\n",
       "    <tr>\n",
       "      <th>127</th>\n",
       "      <td>YoonHyunMin</td>\n",
       "    </tr>\n",
       "  </tbody>\n",
       "</table>\n",
       "<p>128 rows × 1 columns</p>\n",
       "</div>"
      ],
      "text/plain": [
       "           actor\n",
       "0     AhnHyoSeop\n",
       "1        BaeSuzy\n",
       "2      BangMinAh\n",
       "3      ChaEunWoo\n",
       "4    ChaSeungWon\n",
       "..           ...\n",
       "123      YooAhIn\n",
       "124      YooInNa\n",
       "125       YooJun\n",
       "126   YooSeungHo\n",
       "127  YoonHyunMin\n",
       "\n",
       "[128 rows x 1 columns]"
      ]
     },
     "execution_count": 16,
     "metadata": {},
     "output_type": "execute_result"
    }
   ],
   "source": [
    "d"
   ]
  },
  {
   "cell_type": "code",
   "execution_count": 17,
   "metadata": {},
   "outputs": [],
   "source": [
    "d['match'] = np.nan\n",
    "d['score'] = np.nan\n",
    "d['linecount'] = np.nan"
   ]
  },
  {
   "cell_type": "code",
   "execution_count": 18,
   "metadata": {
    "scrolled": true
   },
   "outputs": [
    {
     "data": {
      "text/html": [
       "<div>\n",
       "<style scoped>\n",
       "    .dataframe tbody tr th:only-of-type {\n",
       "        vertical-align: middle;\n",
       "    }\n",
       "\n",
       "    .dataframe tbody tr th {\n",
       "        vertical-align: top;\n",
       "    }\n",
       "\n",
       "    .dataframe thead th {\n",
       "        text-align: right;\n",
       "    }\n",
       "</style>\n",
       "<table border=\"1\" class=\"dataframe\">\n",
       "  <thead>\n",
       "    <tr style=\"text-align: right;\">\n",
       "      <th></th>\n",
       "      <th>actor</th>\n",
       "      <th>match</th>\n",
       "      <th>score</th>\n",
       "      <th>linecount</th>\n",
       "    </tr>\n",
       "  </thead>\n",
       "  <tbody>\n",
       "    <tr>\n",
       "      <th>0</th>\n",
       "      <td>AhnHyoSeop</td>\n",
       "      <td>NaN</td>\n",
       "      <td>NaN</td>\n",
       "      <td>NaN</td>\n",
       "    </tr>\n",
       "    <tr>\n",
       "      <th>1</th>\n",
       "      <td>BaeSuzy</td>\n",
       "      <td>NaN</td>\n",
       "      <td>NaN</td>\n",
       "      <td>NaN</td>\n",
       "    </tr>\n",
       "    <tr>\n",
       "      <th>2</th>\n",
       "      <td>BangMinAh</td>\n",
       "      <td>NaN</td>\n",
       "      <td>NaN</td>\n",
       "      <td>NaN</td>\n",
       "    </tr>\n",
       "    <tr>\n",
       "      <th>3</th>\n",
       "      <td>ChaEunWoo</td>\n",
       "      <td>NaN</td>\n",
       "      <td>NaN</td>\n",
       "      <td>NaN</td>\n",
       "    </tr>\n",
       "    <tr>\n",
       "      <th>4</th>\n",
       "      <td>ChaSeungWon</td>\n",
       "      <td>NaN</td>\n",
       "      <td>NaN</td>\n",
       "      <td>NaN</td>\n",
       "    </tr>\n",
       "    <tr>\n",
       "      <th>...</th>\n",
       "      <td>...</td>\n",
       "      <td>...</td>\n",
       "      <td>...</td>\n",
       "      <td>...</td>\n",
       "    </tr>\n",
       "    <tr>\n",
       "      <th>123</th>\n",
       "      <td>YooAhIn</td>\n",
       "      <td>NaN</td>\n",
       "      <td>NaN</td>\n",
       "      <td>NaN</td>\n",
       "    </tr>\n",
       "    <tr>\n",
       "      <th>124</th>\n",
       "      <td>YooInNa</td>\n",
       "      <td>NaN</td>\n",
       "      <td>NaN</td>\n",
       "      <td>NaN</td>\n",
       "    </tr>\n",
       "    <tr>\n",
       "      <th>125</th>\n",
       "      <td>YooJun</td>\n",
       "      <td>NaN</td>\n",
       "      <td>NaN</td>\n",
       "      <td>NaN</td>\n",
       "    </tr>\n",
       "    <tr>\n",
       "      <th>126</th>\n",
       "      <td>YooSeungHo</td>\n",
       "      <td>NaN</td>\n",
       "      <td>NaN</td>\n",
       "      <td>NaN</td>\n",
       "    </tr>\n",
       "    <tr>\n",
       "      <th>127</th>\n",
       "      <td>YoonHyunMin</td>\n",
       "      <td>NaN</td>\n",
       "      <td>NaN</td>\n",
       "      <td>NaN</td>\n",
       "    </tr>\n",
       "  </tbody>\n",
       "</table>\n",
       "<p>128 rows × 4 columns</p>\n",
       "</div>"
      ],
      "text/plain": [
       "           actor  match  score  linecount\n",
       "0     AhnHyoSeop    NaN    NaN        NaN\n",
       "1        BaeSuzy    NaN    NaN        NaN\n",
       "2      BangMinAh    NaN    NaN        NaN\n",
       "3      ChaEunWoo    NaN    NaN        NaN\n",
       "4    ChaSeungWon    NaN    NaN        NaN\n",
       "..           ...    ...    ...        ...\n",
       "123      YooAhIn    NaN    NaN        NaN\n",
       "124      YooInNa    NaN    NaN        NaN\n",
       "125       YooJun    NaN    NaN        NaN\n",
       "126   YooSeungHo    NaN    NaN        NaN\n",
       "127  YoonHyunMin    NaN    NaN        NaN\n",
       "\n",
       "[128 rows x 4 columns]"
      ]
     },
     "execution_count": 18,
     "metadata": {},
     "output_type": "execute_result"
    }
   ],
   "source": [
    "d"
   ]
  },
  {
   "cell_type": "code",
   "execution_count": 19,
   "metadata": {},
   "outputs": [],
   "source": [
    "d['match'] = d.match.astype(str)\n",
    "d['score'] = d.score.astype(str)\n",
    "d['linecount'] = d.linecount.astype(str)"
   ]
  },
  {
   "cell_type": "code",
   "execution_count": 20,
   "metadata": {},
   "outputs": [],
   "source": [
    "maxi = 0"
   ]
  },
  {
   "cell_type": "code",
   "execution_count": 21,
   "metadata": {
    "scrolled": true
   },
   "outputs": [
    {
     "data": {
      "text/html": [
       "<div>\n",
       "<style scoped>\n",
       "    .dataframe tbody tr th:only-of-type {\n",
       "        vertical-align: middle;\n",
       "    }\n",
       "\n",
       "    .dataframe tbody tr th {\n",
       "        vertical-align: top;\n",
       "    }\n",
       "\n",
       "    .dataframe thead th {\n",
       "        text-align: right;\n",
       "    }\n",
       "</style>\n",
       "<table border=\"1\" class=\"dataframe\">\n",
       "  <thead>\n",
       "    <tr style=\"text-align: right;\">\n",
       "      <th></th>\n",
       "      <th>actor</th>\n",
       "      <th>match</th>\n",
       "      <th>score</th>\n",
       "      <th>linecount</th>\n",
       "    </tr>\n",
       "  </thead>\n",
       "  <tbody>\n",
       "    <tr>\n",
       "      <th>0</th>\n",
       "      <td>AhnHyoSeop</td>\n",
       "      <td>nan</td>\n",
       "      <td>nan</td>\n",
       "      <td>nan</td>\n",
       "    </tr>\n",
       "    <tr>\n",
       "      <th>1</th>\n",
       "      <td>BaeSuzy</td>\n",
       "      <td>nan</td>\n",
       "      <td>nan</td>\n",
       "      <td>nan</td>\n",
       "    </tr>\n",
       "    <tr>\n",
       "      <th>2</th>\n",
       "      <td>BangMinAh</td>\n",
       "      <td>nan</td>\n",
       "      <td>nan</td>\n",
       "      <td>nan</td>\n",
       "    </tr>\n",
       "    <tr>\n",
       "      <th>3</th>\n",
       "      <td>ChaEunWoo</td>\n",
       "      <td>nan</td>\n",
       "      <td>nan</td>\n",
       "      <td>nan</td>\n",
       "    </tr>\n",
       "    <tr>\n",
       "      <th>4</th>\n",
       "      <td>ChaSeungWon</td>\n",
       "      <td>nan</td>\n",
       "      <td>nan</td>\n",
       "      <td>nan</td>\n",
       "    </tr>\n",
       "    <tr>\n",
       "      <th>...</th>\n",
       "      <td>...</td>\n",
       "      <td>...</td>\n",
       "      <td>...</td>\n",
       "      <td>...</td>\n",
       "    </tr>\n",
       "    <tr>\n",
       "      <th>123</th>\n",
       "      <td>YooAhIn</td>\n",
       "      <td>nan</td>\n",
       "      <td>nan</td>\n",
       "      <td>nan</td>\n",
       "    </tr>\n",
       "    <tr>\n",
       "      <th>124</th>\n",
       "      <td>YooInNa</td>\n",
       "      <td>nan</td>\n",
       "      <td>nan</td>\n",
       "      <td>nan</td>\n",
       "    </tr>\n",
       "    <tr>\n",
       "      <th>125</th>\n",
       "      <td>YooJun</td>\n",
       "      <td>nan</td>\n",
       "      <td>nan</td>\n",
       "      <td>nan</td>\n",
       "    </tr>\n",
       "    <tr>\n",
       "      <th>126</th>\n",
       "      <td>YooSeungHo</td>\n",
       "      <td>nan</td>\n",
       "      <td>nan</td>\n",
       "      <td>nan</td>\n",
       "    </tr>\n",
       "    <tr>\n",
       "      <th>127</th>\n",
       "      <td>YoonHyunMin</td>\n",
       "      <td>nan</td>\n",
       "      <td>nan</td>\n",
       "      <td>nan</td>\n",
       "    </tr>\n",
       "  </tbody>\n",
       "</table>\n",
       "<p>128 rows × 4 columns</p>\n",
       "</div>"
      ],
      "text/plain": [
       "           actor match score linecount\n",
       "0     AhnHyoSeop   nan   nan       nan\n",
       "1        BaeSuzy   nan   nan       nan\n",
       "2      BangMinAh   nan   nan       nan\n",
       "3      ChaEunWoo   nan   nan       nan\n",
       "4    ChaSeungWon   nan   nan       nan\n",
       "..           ...   ...   ...       ...\n",
       "123      YooAhIn   nan   nan       nan\n",
       "124      YooInNa   nan   nan       nan\n",
       "125       YooJun   nan   nan       nan\n",
       "126   YooSeungHo   nan   nan       nan\n",
       "127  YoonHyunMin   nan   nan       nan\n",
       "\n",
       "[128 rows x 4 columns]"
      ]
     },
     "execution_count": 21,
     "metadata": {},
     "output_type": "execute_result"
    }
   ],
   "source": [
    "d"
   ]
  },
  {
   "cell_type": "code",
   "execution_count": 22,
   "metadata": {},
   "outputs": [],
   "source": [
    "yes = 0\n",
    "maxi = 0"
   ]
  },
  {
   "cell_type": "code",
   "execution_count": 23,
   "metadata": {},
   "outputs": [],
   "source": [
    "for j in range(0,128):\n",
    "    for i in range(0,103):\n",
    "        if ((d.iloc[j, 0] == senti.iloc[i, 2] or d.iloc[j, 0] == senti.iloc[i, 3]) and senti.iloc[i, 5]>maxi):\n",
    "            maxi = senti.iloc[i, 5]\n",
    "            if d.iloc[j, 0] == senti.iloc[i, 2]:\n",
    "                yes = 1\n",
    "            if yes == 1:\n",
    "                d.at[j, 'match'] = senti.iloc[i, 3]\n",
    "            if yes == 0:\n",
    "                d.at[j, 'match'] = senti.iloc[i, 2]\n",
    "            d.at[j, 'score'] = senti.iloc[i, 5]\n",
    "            d.at[j, 'linecount'] = senti.iloc[i, 4]\n",
    "        yes = 0\n",
    "    maxi = 0\n",
    "            "
   ]
  },
  {
   "cell_type": "code",
   "execution_count": 24,
   "metadata": {
    "scrolled": true
   },
   "outputs": [],
   "source": [
    "d = d.sort_values(\"actor\").reset_index().drop(\"index\", 1)"
   ]
  },
  {
   "cell_type": "code",
   "execution_count": 25,
   "metadata": {
    "scrolled": true
   },
   "outputs": [
    {
     "data": {
      "text/plain": [
       "0.3044259048098802"
      ]
     },
     "execution_count": 25,
     "metadata": {},
     "output_type": "execute_result"
    }
   ],
   "source": [
    "d.score.mean() #needed for dashboard, to classify it as high or low chemistry"
   ]
  },
  {
   "cell_type": "code",
   "execution_count": 26,
   "metadata": {},
   "outputs": [
    {
     "data": {
      "text/plain": [
       "0.29034474206349203"
      ]
     },
     "execution_count": 26,
     "metadata": {},
     "output_type": "execute_result"
    }
   ],
   "source": [
    "d.score.median()#needed for dashboard, to classify it as high or low chemistry"
   ]
  },
  {
   "cell_type": "code",
   "execution_count": 27,
   "metadata": {},
   "outputs": [],
   "source": [
    "# d.to_csv(\"dfR.csv\")"
   ]
  },
  {
   "cell_type": "code",
   "execution_count": 32,
   "metadata": {
    "scrolled": true
   },
   "outputs": [
    {
     "data": {
      "text/html": [
       "<div>\n",
       "<style scoped>\n",
       "    .dataframe tbody tr th:only-of-type {\n",
       "        vertical-align: middle;\n",
       "    }\n",
       "\n",
       "    .dataframe tbody tr th {\n",
       "        vertical-align: top;\n",
       "    }\n",
       "\n",
       "    .dataframe thead th {\n",
       "        text-align: right;\n",
       "    }\n",
       "</style>\n",
       "<table border=\"1\" class=\"dataframe\">\n",
       "  <thead>\n",
       "    <tr style=\"text-align: right;\">\n",
       "      <th></th>\n",
       "      <th>actor</th>\n",
       "      <th>match</th>\n",
       "      <th>score</th>\n",
       "      <th>linecount</th>\n",
       "    </tr>\n",
       "  </thead>\n",
       "  <tbody>\n",
       "    <tr>\n",
       "      <th>0</th>\n",
       "      <td>AhnHyoSeop</td>\n",
       "      <td>ParkBoYoung</td>\n",
       "      <td>0.25841</td>\n",
       "      <td>6</td>\n",
       "    </tr>\n",
       "    <tr>\n",
       "      <th>1</th>\n",
       "      <td>BaeSuzy</td>\n",
       "      <td>LeeJongSuk</td>\n",
       "      <td>0.185402</td>\n",
       "      <td>5</td>\n",
       "    </tr>\n",
       "    <tr>\n",
       "      <th>2</th>\n",
       "      <td>BangMinAh</td>\n",
       "      <td>NamgoongMin</td>\n",
       "      <td>0.407018</td>\n",
       "      <td>8</td>\n",
       "    </tr>\n",
       "    <tr>\n",
       "      <th>3</th>\n",
       "      <td>ChaEunWoo</td>\n",
       "      <td>MoonGaYoung</td>\n",
       "      <td>0.304908</td>\n",
       "      <td>7</td>\n",
       "    </tr>\n",
       "    <tr>\n",
       "      <th>4</th>\n",
       "      <td>ChaSeungWon</td>\n",
       "      <td>LeeSeungGi</td>\n",
       "      <td>0.592857</td>\n",
       "      <td>5</td>\n",
       "    </tr>\n",
       "    <tr>\n",
       "      <th>...</th>\n",
       "      <td>...</td>\n",
       "      <td>...</td>\n",
       "      <td>...</td>\n",
       "      <td>...</td>\n",
       "    </tr>\n",
       "    <tr>\n",
       "      <th>123</th>\n",
       "      <td>YooAhIn</td>\n",
       "      <td>ImSooJung</td>\n",
       "      <td>0.215341</td>\n",
       "      <td>5</td>\n",
       "    </tr>\n",
       "    <tr>\n",
       "      <th>124</th>\n",
       "      <td>YooInNa</td>\n",
       "      <td>JiHyunWoo</td>\n",
       "      <td>0.389189</td>\n",
       "      <td>10</td>\n",
       "    </tr>\n",
       "    <tr>\n",
       "      <th>125</th>\n",
       "      <td>YooJun</td>\n",
       "      <td>HeoHyunJun</td>\n",
       "      <td>0.216423</td>\n",
       "      <td>7</td>\n",
       "    </tr>\n",
       "    <tr>\n",
       "      <th>126</th>\n",
       "      <td>YooSeungHo</td>\n",
       "      <td>ChaeSooBin</td>\n",
       "      <td>0.193958</td>\n",
       "      <td>6</td>\n",
       "    </tr>\n",
       "    <tr>\n",
       "      <th>127</th>\n",
       "      <td>YoonHyunMin</td>\n",
       "      <td>GoSungHee</td>\n",
       "      <td>0.487549</td>\n",
       "      <td>5</td>\n",
       "    </tr>\n",
       "  </tbody>\n",
       "</table>\n",
       "<p>128 rows × 4 columns</p>\n",
       "</div>"
      ],
      "text/plain": [
       "           actor        match     score linecount\n",
       "0     AhnHyoSeop  ParkBoYoung   0.25841         6\n",
       "1        BaeSuzy   LeeJongSuk  0.185402         5\n",
       "2      BangMinAh  NamgoongMin  0.407018         8\n",
       "3      ChaEunWoo  MoonGaYoung  0.304908         7\n",
       "4    ChaSeungWon   LeeSeungGi  0.592857         5\n",
       "..           ...          ...       ...       ...\n",
       "123      YooAhIn    ImSooJung  0.215341         5\n",
       "124      YooInNa    JiHyunWoo  0.389189        10\n",
       "125       YooJun   HeoHyunJun  0.216423         7\n",
       "126   YooSeungHo   ChaeSooBin  0.193958         6\n",
       "127  YoonHyunMin    GoSungHee  0.487549         5\n",
       "\n",
       "[128 rows x 4 columns]"
      ]
     },
     "execution_count": 32,
     "metadata": {},
     "output_type": "execute_result"
    }
   ],
   "source": [
    "d"
   ]
  },
  {
   "cell_type": "code",
   "execution_count": 39,
   "metadata": {},
   "outputs": [],
   "source": [
    "d.score = d.score.astype('float')"
   ]
  },
  {
   "cell_type": "code",
   "execution_count": 40,
   "metadata": {
    "scrolled": false
   },
   "outputs": [
    {
     "data": {
      "text/plain": [
       "<AxesSubplot:xlabel='score', ylabel='Density'>"
      ]
     },
     "execution_count": 40,
     "metadata": {},
     "output_type": "execute_result"
    },
    {
     "data": {
      "image/png": "[encoded data removed]",
      "text/plain": [
       "<Figure size 432x288 with 1 Axes>"
      ]
     },
     "metadata": {
      "needs_background": "light"
     },
     "output_type": "display_data"
    }
   ],
   "source": [
    "sns.kdeplot(d['score'])"
   ]
  },
  {
   "cell_type": "code",
   "execution_count": 43,
   "metadata": {},
   "outputs": [],
   "source": [
    "def variance(data, ddof=0):\n",
    "    n = len(data)\n",
    "    mean = sum(data) / n\n",
    "    return sum((x - mean) ** 2 for x in data) / (n - ddof)\n",
    "\n",
    "\n",
    "def stdev(data):\n",
    "    var = variance(data)\n",
    "    std_dev = math.sqrt(var)\n",
    "    return std_dev"
   ]
  },
  {
   "cell_type": "code",
   "execution_count": 46,
   "metadata": {},
   "outputs": [],
   "source": [
    "a = stdev(d.score)"
   ]
  },
  {
   "cell_type": "code",
   "execution_count": 49,
   "metadata": {},
   "outputs": [
    {
     "data": {
      "text/plain": [
       "0.20544442818348568"
      ]
     },
     "execution_count": 49,
     "metadata": {},
     "output_type": "execute_result"
    }
   ],
   "source": [
    "d.score.mean()-a"
   ]
  },
  {
   "cell_type": "code",
   "execution_count": 50,
   "metadata": {},
   "outputs": [
    {
     "data": {
      "text/plain": [
       "0.4034073814362747"
      ]
     },
     "execution_count": 50,
     "metadata": {},
     "output_type": "execute_result"
    }
   ],
   "source": [
    "d.score.mean()+a"
   ]
  },
  {
   "cell_type": "markdown",
   "metadata": {},
   "source": [
    "This represents the mid chemistry level whereas anything below 20.54% is considered low and anything above 40.34% is considered high."
   ]
  },
  {
   "cell_type": "code",
   "execution_count": 84,
   "metadata": {
    "scrolled": true
   },
   "outputs": [],
   "source": [
    "senti.actor1match = senti.actor1match.astype('string')\n",
    "senti.actor2match = senti.actor2match.astype('string')"
   ]
  },
  {
   "cell_type": "code",
   "execution_count": 92,
   "metadata": {},
   "outputs": [],
   "source": [
    "actor1mat = senti.dropna(subset = ['actor1match'])"
   ]
  },
  {
   "cell_type": "code",
   "execution_count": 94,
   "metadata": {},
   "outputs": [
    {
     "data": {
      "text/html": [
       "<div>\n",
       "<style scoped>\n",
       "    .dataframe tbody tr th:only-of-type {\n",
       "        vertical-align: middle;\n",
       "    }\n",
       "\n",
       "    .dataframe tbody tr th {\n",
       "        vertical-align: top;\n",
       "    }\n",
       "\n",
       "    .dataframe thead th {\n",
       "        text-align: right;\n",
       "    }\n",
       "</style>\n",
       "<table border=\"1\" class=\"dataframe\">\n",
       "  <thead>\n",
       "    <tr style=\"text-align: right;\">\n",
       "      <th></th>\n",
       "      <th>Unnamed: 0</th>\n",
       "      <th>pair</th>\n",
       "      <th>actor1</th>\n",
       "      <th>actor2</th>\n",
       "      <th>lineCount</th>\n",
       "      <th>score</th>\n",
       "      <th>actor1match</th>\n",
       "      <th>actor2match</th>\n",
       "    </tr>\n",
       "  </thead>\n",
       "  <tbody>\n",
       "    <tr>\n",
       "      <th>0</th>\n",
       "      <td>0</td>\n",
       "      <td>('ChaSeungWon', 'LeeSeungGi')</td>\n",
       "      <td>ChaSeungWon</td>\n",
       "      <td>LeeSeungGi</td>\n",
       "      <td>5</td>\n",
       "      <td>0.592857</td>\n",
       "      <td>SungHyuk, BaeSooBin</td>\n",
       "      <td>&lt;NA&gt;</td>\n",
       "    </tr>\n",
       "    <tr>\n",
       "      <th>1</th>\n",
       "      <td>1</td>\n",
       "      <td>('JungHaeIn', 'SonYeJin')</td>\n",
       "      <td>JungHaeIn</td>\n",
       "      <td>SonYeJin</td>\n",
       "      <td>9</td>\n",
       "      <td>0.501087</td>\n",
       "      <td>ParkJiBin</td>\n",
       "      <td>BangMinAh, KimYooJung</td>\n",
       "    </tr>\n",
       "    <tr>\n",
       "      <th>2</th>\n",
       "      <td>2</td>\n",
       "      <td>('YoonHyunMin', 'GoSungHee')</td>\n",
       "      <td>YoonHyunMin</td>\n",
       "      <td>GoSungHee</td>\n",
       "      <td>5</td>\n",
       "      <td>0.487549</td>\n",
       "      <td>JangKiYong, Chani</td>\n",
       "      <td>SeoYeJi</td>\n",
       "    </tr>\n",
       "    <tr>\n",
       "      <th>3</th>\n",
       "      <td>3</td>\n",
       "      <td>('SongJiHyo', 'ChoiJinHyuk')</td>\n",
       "      <td>SongJiHyo</td>\n",
       "      <td>ChoiJinHyuk</td>\n",
       "      <td>5</td>\n",
       "      <td>0.478333</td>\n",
       "      <td>ShinDongMi</td>\n",
       "      <td>LeeHyunJin</td>\n",
       "    </tr>\n",
       "    <tr>\n",
       "      <th>5</th>\n",
       "      <td>5</td>\n",
       "      <td>('YeonWooJin', 'ParkHyeSoo')</td>\n",
       "      <td>YeonWooJin</td>\n",
       "      <td>ParkHyeSoo</td>\n",
       "      <td>5</td>\n",
       "      <td>0.449259</td>\n",
       "      <td>LeeJoonHyuk</td>\n",
       "      <td>KimSeJeong, HanJiMin</td>\n",
       "    </tr>\n",
       "    <tr>\n",
       "      <th>...</th>\n",
       "      <td>...</td>\n",
       "      <td>...</td>\n",
       "      <td>...</td>\n",
       "      <td>...</td>\n",
       "      <td>...</td>\n",
       "      <td>...</td>\n",
       "      <td>...</td>\n",
       "      <td>...</td>\n",
       "    </tr>\n",
       "    <tr>\n",
       "      <th>95</th>\n",
       "      <td>95</td>\n",
       "      <td>('KimMyungSoo', 'ShinYeEun')</td>\n",
       "      <td>KimMyungSoo</td>\n",
       "      <td>ShinYeEun</td>\n",
       "      <td>5</td>\n",
       "      <td>0.117708</td>\n",
       "      <td>JungYongHwa</td>\n",
       "      <td>YooInYoung</td>\n",
       "    </tr>\n",
       "    <tr>\n",
       "      <th>97</th>\n",
       "      <td>97</td>\n",
       "      <td>('GoAhRa', 'ParkSeoJoon')</td>\n",
       "      <td>GoAhRa</td>\n",
       "      <td>ParkSeoJoon</td>\n",
       "      <td>6</td>\n",
       "      <td>0.110000</td>\n",
       "      <td>KangYeNa</td>\n",
       "      <td>ChoiTaeJoon</td>\n",
       "    </tr>\n",
       "    <tr>\n",
       "      <th>100</th>\n",
       "      <td>100</td>\n",
       "      <td>('ShinHyeSun', 'LeeJongSuk')</td>\n",
       "      <td>ShinHyeSun</td>\n",
       "      <td>LeeJongSuk</td>\n",
       "      <td>5</td>\n",
       "      <td>0.076746</td>\n",
       "      <td>YooInNa</td>\n",
       "      <td>&lt;NA&gt;</td>\n",
       "    </tr>\n",
       "    <tr>\n",
       "      <th>101</th>\n",
       "      <td>101</td>\n",
       "      <td>('KimGoEun', 'ParkHaeJin')</td>\n",
       "      <td>KimGoEun</td>\n",
       "      <td>ParkHaeJin</td>\n",
       "      <td>8</td>\n",
       "      <td>0.025000</td>\n",
       "      <td>JoHyeJoo, ChoiARa, LeeSooJi, KimSeulGi, KimHye...</td>\n",
       "      <td>One</td>\n",
       "    </tr>\n",
       "    <tr>\n",
       "      <th>102</th>\n",
       "      <td>102</td>\n",
       "      <td>('JungHaeIn', 'HanJiMin')</td>\n",
       "      <td>JungHaeIn</td>\n",
       "      <td>HanJiMin</td>\n",
       "      <td>7</td>\n",
       "      <td>0.014583</td>\n",
       "      <td>ParkJiBin</td>\n",
       "      <td>&lt;NA&gt;</td>\n",
       "    </tr>\n",
       "  </tbody>\n",
       "</table>\n",
       "<p>67 rows × 8 columns</p>\n",
       "</div>"
      ],
      "text/plain": [
       "     Unnamed: 0                           pair       actor1       actor2  \\\n",
       "0             0  ('ChaSeungWon', 'LeeSeungGi')  ChaSeungWon   LeeSeungGi   \n",
       "1             1      ('JungHaeIn', 'SonYeJin')    JungHaeIn     SonYeJin   \n",
       "2             2   ('YoonHyunMin', 'GoSungHee')  YoonHyunMin    GoSungHee   \n",
       "3             3   ('SongJiHyo', 'ChoiJinHyuk')    SongJiHyo  ChoiJinHyuk   \n",
       "5             5   ('YeonWooJin', 'ParkHyeSoo')   YeonWooJin   ParkHyeSoo   \n",
       "..          ...                            ...          ...          ...   \n",
       "95           95   ('KimMyungSoo', 'ShinYeEun')  KimMyungSoo    ShinYeEun   \n",
       "97           97      ('GoAhRa', 'ParkSeoJoon')       GoAhRa  ParkSeoJoon   \n",
       "100         100   ('ShinHyeSun', 'LeeJongSuk')   ShinHyeSun   LeeJongSuk   \n",
       "101         101     ('KimGoEun', 'ParkHaeJin')     KimGoEun   ParkHaeJin   \n",
       "102         102      ('JungHaeIn', 'HanJiMin')    JungHaeIn     HanJiMin   \n",
       "\n",
       "     lineCount     score                                        actor1match  \\\n",
       "0            5  0.592857                                SungHyuk, BaeSooBin   \n",
       "1            9  0.501087                                          ParkJiBin   \n",
       "2            5  0.487549                                  JangKiYong, Chani   \n",
       "3            5  0.478333                                         ShinDongMi   \n",
       "5            5  0.449259                                        LeeJoonHyuk   \n",
       "..         ...       ...                                                ...   \n",
       "95           5  0.117708                                        JungYongHwa   \n",
       "97           6  0.110000                                           KangYeNa   \n",
       "100          5  0.076746                                            YooInNa   \n",
       "101          8  0.025000  JoHyeJoo, ChoiARa, LeeSooJi, KimSeulGi, KimHye...   \n",
       "102          7  0.014583                                          ParkJiBin   \n",
       "\n",
       "               actor2match  \n",
       "0                     <NA>  \n",
       "1    BangMinAh, KimYooJung  \n",
       "2                  SeoYeJi  \n",
       "3               LeeHyunJin  \n",
       "5     KimSeJeong, HanJiMin  \n",
       "..                     ...  \n",
       "95              YooInYoung  \n",
       "97             ChoiTaeJoon  \n",
       "100                   <NA>  \n",
       "101                    One  \n",
       "102                   <NA>  \n",
       "\n",
       "[67 rows x 8 columns]"
      ]
     },
     "execution_count": 94,
     "metadata": {},
     "output_type": "execute_result"
    }
   ],
   "source": [
    "actor1mat"
   ]
  },
  {
   "cell_type": "code",
   "execution_count": 132,
   "metadata": {},
   "outputs": [
    {
     "data": {
      "text/plain": [
       "array(['ChaSeungWon', 'JungHaeIn', 'YoonHyunMin', 'SongJiHyo',\n",
       "       'JungEunJi', 'YeonWooJin', 'ParkMinYoung', 'JangKiYong',\n",
       "       'ChaeSooBin', 'GongYoo', 'HwangJungEum', 'NamgoongMin',\n",
       "       'KimSeJeong', 'KimYooJung', 'JiHyunWoo', 'HyunBin',\n",
       "       'ChunJungMyung', 'WooDoHwan', 'Uee', 'KimNamGil', 'JungSoMin',\n",
       "       'LeeJoonGi', 'LeeSungKyung', 'LeeYooBi', 'KimJiWon', 'ParkBoYoung',\n",
       "       'LeeDongWook', 'LeeJunHo', 'LeeSeungGi', 'ChaEunWoo', 'ShinYeEun',\n",
       "       'LeeJeHoon', 'IU', 'LeeJongSuk', 'ShinHyeSun', 'SoJiSub',\n",
       "       'JooJiHoon', 'ShinMinAh', 'JunJiHyun', 'HanGiChan', 'KimDongWook',\n",
       "       'Rain', 'KimJaeWook', 'MoonChaeWon', 'GongHyoJin', 'SongHyeKyo',\n",
       "       'JiChangWook', 'ShinSeKyung', 'SeoInGuk', 'KwonNaRa', 'RoWoon',\n",
       "       'KimSooHyun', 'GongSeungYeon', 'JungYongHwa', 'KimYoungKwang',\n",
       "       'OkTaecYeon', 'HanGroo', 'TakWooSuk', 'LeeByungHun', 'ParkYooChun',\n",
       "       'JiSung', 'SeoKangJoon', 'HeoHyunJun', 'KimSoHyun', 'ImSooJung',\n",
       "       'OhYeonSeo', 'HanHyoJoo', 'KimDaMi', 'YooSeungHo', 'BaeSuzy',\n",
       "       'LeeShiYoung', 'NamJooHyuk', 'HwangInYeop', 'ParkShinHye',\n",
       "       'SungJoon', 'LeeMinHo', 'KimMyungSoo', 'GoAhRa', 'JoJungSuk',\n",
       "       'YooAhIn', 'KimGoEun'], dtype=object)"
      ]
     },
     "execution_count": 132,
     "metadata": {},
     "output_type": "execute_result"
    }
   ],
   "source": [
    "senti.actor1.unique()"
   ]
  },
  {
   "cell_type": "code",
   "execution_count": 105,
   "metadata": {},
   "outputs": [],
   "source": [
    "ac = actor1mat.actor1match.str.split(',').tolist()"
   ]
  },
  {
   "cell_type": "code",
   "execution_count": 106,
   "metadata": {},
   "outputs": [],
   "source": [
    "ac = pd.DataFrame(ac, index=actor1mat.actor1).stack()"
   ]
  },
  {
   "cell_type": "code",
   "execution_count": 108,
   "metadata": {},
   "outputs": [],
   "source": [
    "ac = ac.reset_index()[[0, 'actor1']] # var1 variable is currently labeled 0\n",
    "ac.columns = ['new', 'facialmatched'] # renaming var1"
   ]
  },
  {
   "cell_type": "code",
   "execution_count": 109,
   "metadata": {},
   "outputs": [
    {
     "data": {
      "text/html": [
       "<div>\n",
       "<style scoped>\n",
       "    .dataframe tbody tr th:only-of-type {\n",
       "        vertical-align: middle;\n",
       "    }\n",
       "\n",
       "    .dataframe tbody tr th {\n",
       "        vertical-align: top;\n",
       "    }\n",
       "\n",
       "    .dataframe thead th {\n",
       "        text-align: right;\n",
       "    }\n",
       "</style>\n",
       "<table border=\"1\" class=\"dataframe\">\n",
       "  <thead>\n",
       "    <tr style=\"text-align: right;\">\n",
       "      <th></th>\n",
       "      <th>new</th>\n",
       "      <th>facialmatched</th>\n",
       "    </tr>\n",
       "  </thead>\n",
       "  <tbody>\n",
       "    <tr>\n",
       "      <th>0</th>\n",
       "      <td>SungHyuk</td>\n",
       "      <td>ChaSeungWon</td>\n",
       "    </tr>\n",
       "    <tr>\n",
       "      <th>1</th>\n",
       "      <td>BaeSooBin</td>\n",
       "      <td>ChaSeungWon</td>\n",
       "    </tr>\n",
       "    <tr>\n",
       "      <th>2</th>\n",
       "      <td>ParkJiBin</td>\n",
       "      <td>JungHaeIn</td>\n",
       "    </tr>\n",
       "    <tr>\n",
       "      <th>3</th>\n",
       "      <td>JangKiYong</td>\n",
       "      <td>YoonHyunMin</td>\n",
       "    </tr>\n",
       "    <tr>\n",
       "      <th>4</th>\n",
       "      <td>Chani</td>\n",
       "      <td>YoonHyunMin</td>\n",
       "    </tr>\n",
       "    <tr>\n",
       "      <th>...</th>\n",
       "      <td>...</td>\n",
       "      <td>...</td>\n",
       "    </tr>\n",
       "    <tr>\n",
       "      <th>117</th>\n",
       "      <td>ChoiARa</td>\n",
       "      <td>KimGoEun</td>\n",
       "    </tr>\n",
       "    <tr>\n",
       "      <th>118</th>\n",
       "      <td>LeeSooJi</td>\n",
       "      <td>KimGoEun</td>\n",
       "    </tr>\n",
       "    <tr>\n",
       "      <th>119</th>\n",
       "      <td>KimSeulGi</td>\n",
       "      <td>KimGoEun</td>\n",
       "    </tr>\n",
       "    <tr>\n",
       "      <th>120</th>\n",
       "      <td>KimHyeJoon</td>\n",
       "      <td>KimGoEun</td>\n",
       "    </tr>\n",
       "    <tr>\n",
       "      <th>121</th>\n",
       "      <td>ParkJiBin</td>\n",
       "      <td>JungHaeIn</td>\n",
       "    </tr>\n",
       "  </tbody>\n",
       "</table>\n",
       "<p>122 rows × 2 columns</p>\n",
       "</div>"
      ],
      "text/plain": [
       "             new facialmatched\n",
       "0       SungHyuk   ChaSeungWon\n",
       "1      BaeSooBin   ChaSeungWon\n",
       "2      ParkJiBin     JungHaeIn\n",
       "3     JangKiYong   YoonHyunMin\n",
       "4          Chani   YoonHyunMin\n",
       "..           ...           ...\n",
       "117      ChoiARa      KimGoEun\n",
       "118     LeeSooJi      KimGoEun\n",
       "119    KimSeulGi      KimGoEun\n",
       "120   KimHyeJoon      KimGoEun\n",
       "121    ParkJiBin     JungHaeIn\n",
       "\n",
       "[122 rows x 2 columns]"
      ]
     },
     "execution_count": 109,
     "metadata": {},
     "output_type": "execute_result"
    }
   ],
   "source": [
    "ac"
   ]
  },
  {
   "cell_type": "code",
   "execution_count": 110,
   "metadata": {},
   "outputs": [],
   "source": [
    "actor2mat = senti.dropna(subset = ['actor2match'])"
   ]
  },
  {
   "cell_type": "code",
   "execution_count": 111,
   "metadata": {},
   "outputs": [],
   "source": [
    "ac2 = actor2mat.actor2match.str.split(',').tolist()"
   ]
  },
  {
   "cell_type": "code",
   "execution_count": 112,
   "metadata": {},
   "outputs": [],
   "source": [
    "ac2 = pd.DataFrame(ac2, index=actor2mat.actor2).stack()"
   ]
  },
  {
   "cell_type": "code",
   "execution_count": 113,
   "metadata": {},
   "outputs": [],
   "source": [
    "ac2 = ac2.reset_index()[[0, 'actor2']] # var1 variable is currently labeled 0\n",
    "ac2.columns = ['new', 'facialmatched'] # renaming var1"
   ]
  },
  {
   "cell_type": "code",
   "execution_count": 119,
   "metadata": {},
   "outputs": [],
   "source": [
    "fin = pd.concat([ac,ac2],axis = 0)"
   ]
  },
  {
   "cell_type": "code",
   "execution_count": 217,
   "metadata": {},
   "outputs": [],
   "source": [
    "unique = fin.drop_duplicates('new')"
   ]
  },
  {
   "cell_type": "code",
   "execution_count": 139,
   "metadata": {},
   "outputs": [
    {
     "data": {
      "text/plain": [
       "array(['AhnHyoSeop', 'BaeSuzy', 'BangMinAh', 'ChaEunWoo', 'ChaSeungWon',\n",
       "       'ChaeSooBin', 'ChoiJinHyuk', 'ChoiKangHee', 'ChunJungMyung',\n",
       "       'GoAhRa', 'GoSungHee', 'GongHyoJin', 'GongSeungYeon', 'GongYoo',\n",
       "       'HaJiWon', 'HanGiChan', 'HanGroo', 'HanHyoJoo', 'HanJiMin',\n",
       "       'HeoHyunJun', 'HwangInYeop', 'HwangJungEum', 'HyunBin', 'IU',\n",
       "       'ImShiWan', 'ImSooJung', 'ImYoonAh', 'JangEuiSoo', 'JangKiYong',\n",
       "       'JiChangWook', 'JiHyunWoo', 'JiSung', 'JinKiJoo', 'JoBoAh',\n",
       "       'JoInSung', 'JoJungSuk', 'JooJiHoon', 'Joy', 'JunJiHyun',\n",
       "       'JungEunJi', 'JungHaeIn', 'JungSoMin', 'JungYongHwa', 'KimAhJoong',\n",
       "       'KimDaMi', 'KimDongWook', 'KimGoEun', 'KimHeeAe', 'KimHyeSoo',\n",
       "       'KimHyeYoon', 'KimJaeWook', 'KimJiSoo', 'KimJiWon', 'KimJungHyun',\n",
       "       'KimMyungSoo', 'KimNamGil', 'KimSeJeong', 'KimSoHyun',\n",
       "       'KimSooHyun', 'KimTaeRi', 'KimYooJung', 'KimYoungKwang', 'Krystal',\n",
       "       'KwonNaRa', 'LeeBoYoung', 'LeeByungHun', 'LeeDongWook',\n",
       "       'LeeJeHoon', 'LeeJongHyun', 'LeeJongSuk', 'LeeJoonGi',\n",
       "       'LeeJoonHyuk', 'LeeJunHo', 'LeeMinHo', 'LeeMinKi', 'LeeNaYoung',\n",
       "       'LeeSeoJin', 'LeeSeungGi', 'LeeShiYoung', 'LeeSungKyung',\n",
       "       'LeeYooBi', 'MoonChaeWon', 'MoonGaYoung', 'NamJiHyun',\n",
       "       'NamJooHyuk', 'NamgoongMin', 'OhYeonSeo', 'OkTaecYeon',\n",
       "       'ParkBoGum', 'ParkBoYoung', 'ParkHaeJin', 'ParkHyeSoo',\n",
       "       'ParkHyungShik', 'ParkJinYoung', 'ParkMinYoung', 'ParkSeoJoon',\n",
       "       'ParkShiHoo', 'ParkShinHye', 'ParkYooChun', 'Rain', 'RoWoon',\n",
       "       'SeoInGuk', 'SeoKangJoon', 'SeoYeJi', 'ShinHyeSun', 'ShinMinAh',\n",
       "       'ShinSeKyung', 'ShinYeEun', 'SoJiSub', 'SonYeJin', 'SongHyeKyo',\n",
       "       'SongJiHyo', 'SongJoongKi', 'SongKang', 'SongYoonAh', 'SungJoon',\n",
       "       'TakWooSuk', 'Uee', 'WonJinAh', 'WooDoHwan', 'YeoJinGoo',\n",
       "       'YeonSeungHo', 'YeonWooJin', 'YooAhIn', 'YooInNa', 'YooJun',\n",
       "       'YooSeungHo', 'YoonHyunMin'], dtype=object)"
      ]
     },
     "execution_count": 139,
     "metadata": {},
     "output_type": "execute_result"
    }
   ],
   "source": [
    "c"
   ]
  },
  {
   "cell_type": "code",
   "execution_count": 145,
   "metadata": {},
   "outputs": [
    {
     "data": {
      "text/plain": [
       "array(['AhnHyoSeop', 'BaeSuzy', 'BangMinAh', 'ChaEunWoo', 'ChaSeungWon',\n",
       "       'ChaeSooBin', 'ChoiJinHyuk', 'ChoiKangHee', 'ChunJungMyung',\n",
       "       'GoAhRa', 'GoSungHee', 'GongHyoJin', 'GongSeungYeon', 'GongYoo',\n",
       "       'HaJiWon', 'HanGiChan', 'HanGroo', 'HanHyoJoo', 'HanJiMin',\n",
       "       'HeoHyunJun', 'HwangInYeop', 'HwangJungEum', 'HyunBin', 'IU',\n",
       "       'ImShiWan', 'ImSooJung', 'ImYoonAh', 'JangEuiSoo', 'JangKiYong',\n",
       "       'JiChangWook', 'JiHyunWoo', 'JiSung', 'JinKiJoo', 'JoBoAh',\n",
       "       'JoInSung', 'JoJungSuk', 'JooJiHoon', 'Joy', 'JunJiHyun',\n",
       "       'JungEunJi', 'JungHaeIn', 'JungSoMin', 'JungYongHwa', 'KimAhJoong',\n",
       "       'KimDaMi', 'KimDongWook', 'KimGoEun', 'KimHeeAe', 'KimHyeSoo',\n",
       "       'KimHyeYoon', 'KimJaeWook', 'KimJiSoo', 'KimJiWon', 'KimJungHyun',\n",
       "       'KimMyungSoo', 'KimNamGil', 'KimSeJeong', 'KimSoHyun',\n",
       "       'KimSooHyun', 'KimTaeRi', 'KimYooJung', 'KimYoungKwang', 'Krystal',\n",
       "       'KwonNaRa', 'LeeBoYoung', 'LeeByungHun', 'LeeDongWook',\n",
       "       'LeeJeHoon', 'LeeJongHyun', 'LeeJongSuk', 'LeeJoonGi',\n",
       "       'LeeJoonHyuk', 'LeeJunHo', 'LeeMinHo', 'LeeMinKi', 'LeeNaYoung',\n",
       "       'LeeSeoJin', 'LeeSeungGi', 'LeeShiYoung', 'LeeSungKyung',\n",
       "       'LeeYooBi', 'MoonChaeWon', 'MoonGaYoung', 'NamJiHyun',\n",
       "       'NamJooHyuk', 'NamgoongMin', 'OhYeonSeo', 'OkTaecYeon',\n",
       "       'ParkBoGum', 'ParkBoYoung', 'ParkHaeJin', 'ParkHyeSoo',\n",
       "       'ParkHyungShik', 'ParkJinYoung', 'ParkMinYoung', 'ParkSeoJoon',\n",
       "       'ParkShiHoo', 'ParkShinHye', 'ParkYooChun', 'Rain', 'RoWoon',\n",
       "       'SeoInGuk', 'SeoKangJoon', 'SeoYeJi', 'ShinHyeSun', 'ShinMinAh',\n",
       "       'ShinSeKyung', 'ShinYeEun', 'SoJiSub', 'SonYeJin', 'SongHyeKyo',\n",
       "       'SongJiHyo', 'SongJoongKi', 'SongKang', 'SongYoonAh', 'SungJoon',\n",
       "       'TakWooSuk', 'Uee', 'WonJinAh', 'WooDoHwan', 'YeoJinGoo',\n",
       "       'YeonSeungHo', 'YeonWooJin', 'YooAhIn', 'YooInNa', 'YooJun',\n",
       "       'YooSeungHo', 'YoonHyunMin'], dtype=object)"
      ]
     },
     "execution_count": 145,
     "metadata": {},
     "output_type": "execute_result"
    }
   ],
   "source": [
    "c"
   ]
  },
  {
   "cell_type": "code",
   "execution_count": 161,
   "metadata": {},
   "outputs": [],
   "source": [
    "unique = unique.reset_index().drop('index', 1)"
   ]
  },
  {
   "cell_type": "code",
   "execution_count": 191,
   "metadata": {},
   "outputs": [],
   "source": [
    "unique.new = unique.new.str.strip()"
   ]
  },
  {
   "cell_type": "code",
   "execution_count": 194,
   "metadata": {},
   "outputs": [],
   "source": [
    "unique = unique[-unique.new.isin(c)]"
   ]
  },
  {
   "cell_type": "code",
   "execution_count": 201,
   "metadata": {},
   "outputs": [],
   "source": [
    "unique = unique.sort_values('new').reset_index()"
   ]
  },
  {
   "cell_type": "code",
   "execution_count": 204,
   "metadata": {},
   "outputs": [],
   "source": [
    "unique = unique.drop('index', 1)"
   ]
  },
  {
   "cell_type": "code",
   "execution_count": 249,
   "metadata": {
    "scrolled": true
   },
   "outputs": [
    {
     "name": "stderr",
     "output_type": "stream",
     "text": [
      "/Users/valencialie/opt/anaconda3/lib/python3.8/site-packages/pandas/core/generic.py:5168: SettingWithCopyWarning: \n",
      "A value is trying to be set on a copy of a slice from a DataFrame.\n",
      "Try using .loc[row_indexer,col_indexer] = value instead\n",
      "\n",
      "See the caveats in the documentation: https://pandas.pydata.org/pandas-docs/stable/user_guide/indexing.html#returning-a-view-versus-a-copy\n",
      "  self[name] = value\n"
     ]
    }
   ],
   "source": [
    "unique.new = unique.new.str.strip()"
   ]
  },
  {
   "cell_type": "code",
   "execution_count": 251,
   "metadata": {},
   "outputs": [],
   "source": [
    "listA = unique.new.to_list()\n",
    "actor = pd.read_csv(\"actor.csv\")"
   ]
  },
  {
   "cell_type": "code",
   "execution_count": 253,
   "metadata": {},
   "outputs": [],
   "source": [
    "actress = pd.read_csv(\"actress.csv\")"
   ]
  },
  {
   "cell_type": "code",
   "execution_count": 254,
   "metadata": {},
   "outputs": [],
   "source": [
    "actor = actor[actor.Actor.isin(listA)].drop_duplicates(\"Actor\")"
   ]
  },
  {
   "cell_type": "code",
   "execution_count": 255,
   "metadata": {},
   "outputs": [],
   "source": [
    "actress = actress[actress.Actor.isin(listA)].drop_duplicates(\"Actor\")"
   ]
  },
  {
   "cell_type": "code",
   "execution_count": 258,
   "metadata": {},
   "outputs": [],
   "source": [
    "final = pd.concat([actor, actress], 0).sort_values(\"Actor\").reset_index().drop(\"index\", 1)"
   ]
  },
  {
   "cell_type": "code",
   "execution_count": 259,
   "metadata": {},
   "outputs": [],
   "source": [
    "final['percentage_similarity'] = (1-final.Least_Array_Diff)*100"
   ]
  },
  {
   "cell_type": "code",
   "execution_count": 261,
   "metadata": {},
   "outputs": [
    {
     "data": {
      "text/html": [
       "<div>\n",
       "<style scoped>\n",
       "    .dataframe tbody tr th:only-of-type {\n",
       "        vertical-align: middle;\n",
       "    }\n",
       "\n",
       "    .dataframe tbody tr th {\n",
       "        vertical-align: top;\n",
       "    }\n",
       "\n",
       "    .dataframe thead th {\n",
       "        text-align: right;\n",
       "    }\n",
       "</style>\n",
       "<table border=\"1\" class=\"dataframe\">\n",
       "  <thead>\n",
       "    <tr style=\"text-align: right;\">\n",
       "      <th></th>\n",
       "      <th>Unnamed: 0</th>\n",
       "      <th>Actor</th>\n",
       "      <th>Least_Array_Diff</th>\n",
       "      <th>Best_Match_Actor</th>\n",
       "      <th>percentage_similarity</th>\n",
       "    </tr>\n",
       "  </thead>\n",
       "  <tbody>\n",
       "    <tr>\n",
       "      <th>0</th>\n",
       "      <td>172</td>\n",
       "      <td>AhnJiHyun</td>\n",
       "      <td>0.329938</td>\n",
       "      <td>KimHyeYoon</td>\n",
       "      <td>67.006230</td>\n",
       "    </tr>\n",
       "    <tr>\n",
       "      <th>1</th>\n",
       "      <td>34</td>\n",
       "      <td>BaeDaBin</td>\n",
       "      <td>0.258346</td>\n",
       "      <td>ShinSeKyung</td>\n",
       "      <td>74.165398</td>\n",
       "    </tr>\n",
       "    <tr>\n",
       "      <th>2</th>\n",
       "      <td>478</td>\n",
       "      <td>BaeInHyuk</td>\n",
       "      <td>0.320975</td>\n",
       "      <td>ParkYooChun</td>\n",
       "      <td>67.902458</td>\n",
       "    </tr>\n",
       "    <tr>\n",
       "      <th>3</th>\n",
       "      <td>183</td>\n",
       "      <td>BaeSooBin</td>\n",
       "      <td>0.347607</td>\n",
       "      <td>ChaSeungWon</td>\n",
       "      <td>65.239292</td>\n",
       "    </tr>\n",
       "    <tr>\n",
       "      <th>4</th>\n",
       "      <td>487</td>\n",
       "      <td>Chani</td>\n",
       "      <td>0.412719</td>\n",
       "      <td>YoonHyunMin</td>\n",
       "      <td>58.728135</td>\n",
       "    </tr>\n",
       "    <tr>\n",
       "      <th>...</th>\n",
       "      <td>...</td>\n",
       "      <td>...</td>\n",
       "      <td>...</td>\n",
       "      <td>...</td>\n",
       "      <td>...</td>\n",
       "    </tr>\n",
       "    <tr>\n",
       "      <th>130</th>\n",
       "      <td>278</td>\n",
       "      <td>YoonSangHoon</td>\n",
       "      <td>0.272282</td>\n",
       "      <td>Rain</td>\n",
       "      <td>72.771752</td>\n",
       "    </tr>\n",
       "    <tr>\n",
       "      <th>131</th>\n",
       "      <td>191</td>\n",
       "      <td>YoonSoHee</td>\n",
       "      <td>0.251428</td>\n",
       "      <td>ShinSeKyung</td>\n",
       "      <td>74.857181</td>\n",
       "    </tr>\n",
       "    <tr>\n",
       "      <th>132</th>\n",
       "      <td>328</td>\n",
       "      <td>YoonYeJoo</td>\n",
       "      <td>0.313338</td>\n",
       "      <td>KimSoHyun</td>\n",
       "      <td>68.666178</td>\n",
       "    </tr>\n",
       "    <tr>\n",
       "      <th>133</th>\n",
       "      <td>386</td>\n",
       "      <td>Yura</td>\n",
       "      <td>0.293289</td>\n",
       "      <td>ShinSeKyung</td>\n",
       "      <td>70.671099</td>\n",
       "    </tr>\n",
       "    <tr>\n",
       "      <th>134</th>\n",
       "      <td>542</td>\n",
       "      <td>ZuHo</td>\n",
       "      <td>0.310748</td>\n",
       "      <td>SongJoongKi</td>\n",
       "      <td>68.925154</td>\n",
       "    </tr>\n",
       "  </tbody>\n",
       "</table>\n",
       "<p>135 rows × 5 columns</p>\n",
       "</div>"
      ],
      "text/plain": [
       "     Unnamed: 0         Actor  Least_Array_Diff Best_Match_Actor  \\\n",
       "0           172     AhnJiHyun          0.329938       KimHyeYoon   \n",
       "1            34      BaeDaBin          0.258346      ShinSeKyung   \n",
       "2           478     BaeInHyuk          0.320975      ParkYooChun   \n",
       "3           183     BaeSooBin          0.347607      ChaSeungWon   \n",
       "4           487         Chani          0.412719      YoonHyunMin   \n",
       "..          ...           ...               ...              ...   \n",
       "130         278  YoonSangHoon          0.272282             Rain   \n",
       "131         191     YoonSoHee          0.251428      ShinSeKyung   \n",
       "132         328     YoonYeJoo          0.313338        KimSoHyun   \n",
       "133         386          Yura          0.293289      ShinSeKyung   \n",
       "134         542          ZuHo          0.310748      SongJoongKi   \n",
       "\n",
       "     percentage_similarity  \n",
       "0                67.006230  \n",
       "1                74.165398  \n",
       "2                67.902458  \n",
       "3                65.239292  \n",
       "4                58.728135  \n",
       "..                     ...  \n",
       "130              72.771752  \n",
       "131              74.857181  \n",
       "132              68.666178  \n",
       "133              70.671099  \n",
       "134              68.925154  \n",
       "\n",
       "[135 rows x 5 columns]"
      ]
     },
     "execution_count": 261,
     "metadata": {},
     "output_type": "execute_result"
    }
   ],
   "source": [
    "final"
   ]
  },
  {
   "cell_type": "code",
   "execution_count": 263,
   "metadata": {},
   "outputs": [],
   "source": [
    "final = final.drop(\"Unnamed: 0\", 1)"
   ]
  },
  {
   "cell_type": "code",
   "execution_count": 264,
   "metadata": {},
   "outputs": [
    {
     "data": {
      "text/plain": [
       "<AxesSubplot:xlabel='percentage_similarity', ylabel='Density'>"
      ]
     },
     "execution_count": 264,
     "metadata": {},
     "output_type": "execute_result"
    },
    {
     "data": {
      "image/png": "[encoded data removed]",
      "text/plain": [
       "<Figure size 432x288 with 1 Axes>"
      ]
     },
     "metadata": {
      "needs_background": "light"
     },
     "output_type": "display_data"
    }
   ],
   "source": [
    "sns.kdeplot(final.percentage_similarity)"
   ]
  },
  {
   "cell_type": "code",
   "execution_count": 265,
   "metadata": {},
   "outputs": [],
   "source": [
    "std = stdev(final.percentage_similarity)"
   ]
  },
  {
   "cell_type": "code",
   "execution_count": 266,
   "metadata": {},
   "outputs": [],
   "source": [
    "mean = final.percentage_similarity.mean()"
   ]
  },
  {
   "cell_type": "code",
   "execution_count": 267,
   "metadata": {},
   "outputs": [
    {
     "data": {
      "text/plain": [
       "63.85877472210949"
      ]
     },
     "execution_count": 267,
     "metadata": {},
     "output_type": "execute_result"
    }
   ],
   "source": [
    "mean-std"
   ]
  },
  {
   "cell_type": "code",
   "execution_count": 268,
   "metadata": {
    "scrolled": true
   },
   "outputs": [
    {
     "data": {
      "text/plain": [
       "73.20422680461714"
      ]
     },
     "execution_count": 268,
     "metadata": {},
     "output_type": "execute_result"
    }
   ],
   "source": [
    "mean+std"
   ]
  }
 ],
 "metadata": {
  "kernelspec": {
   "display_name": "Python 3",
   "language": "python",
   "name": "python3"
  },
  "language_info": {
   "codemirror_mode": {
    "name": "ipython",
    "version": 3
   },
   "file_extension": ".py",
   "mimetype": "text/x-python",
   "name": "python",
   "nbconvert_exporter": "python",
   "pygments_lexer": "ipython3",
   "version": "3.8.5"
  }
 },
 "nbformat": 4,
 "nbformat_minor": 4
}
