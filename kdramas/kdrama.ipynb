{
 "cells": [
  {
   "cell_type": "code",
   "execution_count": 2,
   "id": "allied-authentication",
   "metadata": {},
   "outputs": [],
   "source": [
    "import pandas as pd\n",
    "import numpy as np\n",
    "import matplotlib.pyplot as plt\n",
    "import seaborn as sb\n",
    "sb.set()"
   ]
  },
  {
   "cell_type": "code",
   "execution_count": 3,
   "id": "conscious-machine",
   "metadata": {},
   "outputs": [],
   "source": [
    "lk = pd.read_csv('url.csv', index_col = 0)\n",
    "half = lk['URL'].values\n",
    "links = ['https://mydramalist.com' + i + '/reviews?xlang=en-US&status=completed' for i in half]"
   ]
  },
  {
   "cell_type": "code",
   "execution_count": 8,
   "id": "realistic-antibody",
   "metadata": {},
   "outputs": [
    {
     "data": {
      "text/html": [
       "<div>\n",
       "<style scoped>\n",
       "    .dataframe tbody tr th:only-of-type {\n",
       "        vertical-align: middle;\n",
       "    }\n",
       "\n",
       "    .dataframe tbody tr th {\n",
       "        vertical-align: top;\n",
       "    }\n",
       "\n",
       "    .dataframe thead th {\n",
       "        text-align: right;\n",
       "    }\n",
       "</style>\n",
       "<table border=\"1\" class=\"dataframe\">\n",
       "  <thead>\n",
       "    <tr style=\"text-align: right;\">\n",
       "      <th></th>\n",
       "      <th>Unnamed: 0</th>\n",
       "      <th>Title</th>\n",
       "      <th>Info</th>\n",
       "      <th>Ratings</th>\n",
       "      <th>URL</th>\n",
       "    </tr>\n",
       "  </thead>\n",
       "  <tbody>\n",
       "    <tr>\n",
       "      <th>358</th>\n",
       "      <td>358</td>\n",
       "      <td>Into the Ring</td>\n",
       "      <td>Korean Drama - 2020, 32 episodes</td>\n",
       "      <td>8.3</td>\n",
       "      <td>/55675-the-ballot</td>\n",
       "    </tr>\n",
       "  </tbody>\n",
       "</table>\n",
       "</div>"
      ],
      "text/plain": [
       "     Unnamed: 0          Title                              Info  Ratings  \\\n",
       "358         358  Into the Ring  Korean Drama - 2020, 32 episodes      8.3   \n",
       "\n",
       "                   URL  \n",
       "358  /55675-the-ballot  "
      ]
     },
     "execution_count": 8,
     "metadata": {},
     "output_type": "execute_result"
    }
   ],
   "source": [
    "lk[lk['URL']=='/55675-the-ballot']\n",
    "# 'Memorials' doesn't matche the title in 'url.csv', it is also not found in 'roles.csv(cleaned_complete)', \n",
    "# maybe it's because it has a different name so after isin name doesn't match so it's dropped?"
   ]
  },
  {
   "cell_type": "code",
   "execution_count": 5,
   "id": "mature-bikini",
   "metadata": {
    "scrolled": false
   },
   "outputs": [
    {
     "data": {
      "text/html": [
       "<div>\n",
       "<style scoped>\n",
       "    .dataframe tbody tr th:only-of-type {\n",
       "        vertical-align: middle;\n",
       "    }\n",
       "\n",
       "    .dataframe tbody tr th {\n",
       "        vertical-align: top;\n",
       "    }\n",
       "\n",
       "    .dataframe thead th {\n",
       "        text-align: right;\n",
       "    }\n",
       "</style>\n",
       "<table border=\"1\" class=\"dataframe\">\n",
       "  <thead>\n",
       "    <tr style=\"text-align: right;\">\n",
       "      <th></th>\n",
       "      <th>title</th>\n",
       "      <th>review</th>\n",
       "    </tr>\n",
       "  </thead>\n",
       "  <tbody>\n",
       "    <tr>\n",
       "      <th>11949</th>\n",
       "      <td>Good Doctor</td>\n",
       "      <td>NaN</td>\n",
       "    </tr>\n",
       "  </tbody>\n",
       "</table>\n",
       "</div>"
      ],
      "text/plain": [
       "             title review\n",
       "11949  Good Doctor    NaN"
      ]
     },
     "execution_count": 5,
     "metadata": {},
     "output_type": "execute_result"
    }
   ],
   "source": [
    "kdrama = pd.read_csv(\"review_individual.csv\")\n",
    "kdrama[kdrama['review'].isna()]\n",
    "# check with website, NaN is when the drama has reviews, but one review is empty"
   ]
  },
  {
   "cell_type": "code",
   "execution_count": 4,
   "id": "obvious-enclosure",
   "metadata": {},
   "outputs": [],
   "source": [
    "kdrama = kdrama.dropna().reset_index(drop=True)"
   ]
  },
  {
   "cell_type": "code",
   "execution_count": 5,
   "id": "continued-queens",
   "metadata": {
    "scrolled": true
   },
   "outputs": [
    {
     "name": "stdout",
     "output_type": "stream",
     "text": [
      "number of links: 1190\n",
      "1186\n",
      "910\n"
     ]
    }
   ],
   "source": [
    "print('number of links:', len(links))\n",
    "print(len(lk['Title'].unique())) # we notice that some dramas have same titles (but they are different dramas)\n",
    "print(len(kdrama['title'].unique()))\n",
    "# numbers are different because when one drama has no reviews, selector list is empty so for loop never runs"
   ]
  },
  {
   "cell_type": "code",
   "execution_count": 6,
   "id": "reverse-demographic",
   "metadata": {},
   "outputs": [
    {
     "data": {
      "text/plain": [
       "911"
      ]
     },
     "execution_count": 6,
     "metadata": {},
     "output_type": "execute_result"
    }
   ],
   "source": [
    "# Since some dramas have same titles, we cannot use groupby, because this will group \n",
    "# different dramas with same name together\n",
    "title_list = list(kdrama['title'])\n",
    "dramaTitle = []\n",
    "dramaCount = []\n",
    "title = title_list[0]\n",
    "count = 1\n",
    "for t in title_list:\n",
    "    if t != title:\n",
    "        dramaTitle.append(title)\n",
    "        dramaCount.append(count)\n",
    "        count = 1\n",
    "        title = t\n",
    "    else:\n",
    "        count += 1\n",
    "dramaTitle.append(t)\n",
    "dramaCount.append(count)\n",
    "\n",
    "title_df = pd.DataFrame({'title': dramaTitle, 'count': dramaCount})\n",
    "len(title_df)"
   ]
  },
  {
   "cell_type": "code",
   "execution_count": 7,
   "id": "romance-triumph",
   "metadata": {
    "scrolled": true
   },
   "outputs": [
    {
     "data": {
      "text/html": [
       "<div>\n",
       "<style scoped>\n",
       "    .dataframe tbody tr th:only-of-type {\n",
       "        vertical-align: middle;\n",
       "    }\n",
       "\n",
       "    .dataframe tbody tr th {\n",
       "        vertical-align: top;\n",
       "    }\n",
       "\n",
       "    .dataframe thead th {\n",
       "        text-align: right;\n",
       "    }\n",
       "</style>\n",
       "<table border=\"1\" class=\"dataframe\">\n",
       "  <thead>\n",
       "    <tr style=\"text-align: right;\">\n",
       "      <th></th>\n",
       "      <th>title</th>\n",
       "      <th>count</th>\n",
       "    </tr>\n",
       "  </thead>\n",
       "  <tbody>\n",
       "    <tr>\n",
       "      <th>428</th>\n",
       "      <td>Once Again</td>\n",
       "      <td>18</td>\n",
       "    </tr>\n",
       "    <tr>\n",
       "      <th>908</th>\n",
       "      <td>Once Again</td>\n",
       "      <td>1</td>\n",
       "    </tr>\n",
       "  </tbody>\n",
       "</table>\n",
       "</div>"
      ],
      "text/plain": [
       "          title  count\n",
       "428  Once Again     18\n",
       "908  Once Again      1"
      ]
     },
     "execution_count": 7,
     "metadata": {},
     "output_type": "execute_result"
    }
   ],
   "source": [
    "title_df[title_df['title'].duplicated(keep=False)]"
   ]
  },
  {
   "cell_type": "raw",
   "id": "amber-hospital",
   "metadata": {},
   "source": [
    "for i in range(len(half)):\n",
    "    if half[i] == '/681631-once-again':\n",
    "        print(i)\n",
    "\n",
    "/13388-mask #172\n",
    "/22683-mask #820\n",
    "/21576-while-you-were-sleeping #10\n",
    "/1606-while-you-were-sleeping #767\n",
    "/44611-i-have-been-there-once #430\n",
    "/681631-once-again #1182"
   ]
  },
  {
   "cell_type": "code",
   "execution_count": 18,
   "id": "contrary-christopher",
   "metadata": {
    "scrolled": false
   },
   "outputs": [
    {
     "data": {
      "text/html": [
       "<div>\n",
       "<style scoped>\n",
       "    .dataframe tbody tr th:only-of-type {\n",
       "        vertical-align: middle;\n",
       "    }\n",
       "\n",
       "    .dataframe tbody tr th {\n",
       "        vertical-align: top;\n",
       "    }\n",
       "\n",
       "    .dataframe thead th {\n",
       "        text-align: right;\n",
       "    }\n",
       "</style>\n",
       "<table border=\"1\" class=\"dataframe\">\n",
       "  <thead>\n",
       "    <tr style=\"text-align: right;\">\n",
       "      <th></th>\n",
       "      <th>title</th>\n",
       "      <th>count</th>\n",
       "    </tr>\n",
       "  </thead>\n",
       "  <tbody>\n",
       "    <tr>\n",
       "      <th>0</th>\n",
       "      <td>Goblin</td>\n",
       "      <td>299</td>\n",
       "    </tr>\n",
       "    <tr>\n",
       "      <th>1</th>\n",
       "      <td>Strong Woman Do Bong Soon</td>\n",
       "      <td>207</td>\n",
       "    </tr>\n",
       "    <tr>\n",
       "      <th>2</th>\n",
       "      <td>Descendants of the Sun</td>\n",
       "      <td>194</td>\n",
       "    </tr>\n",
       "    <tr>\n",
       "      <th>3</th>\n",
       "      <td>W</td>\n",
       "      <td>195</td>\n",
       "    </tr>\n",
       "    <tr>\n",
       "      <th>4</th>\n",
       "      <td>You Who Came from the Stars</td>\n",
       "      <td>213</td>\n",
       "    </tr>\n",
       "    <tr>\n",
       "      <th>...</th>\n",
       "      <td>...</td>\n",
       "      <td>...</td>\n",
       "    </tr>\n",
       "    <tr>\n",
       "      <th>472</th>\n",
       "      <td>Wild Chives and Soy Bean Soup: 12 Years Reunion</td>\n",
       "      <td>21</td>\n",
       "    </tr>\n",
       "    <tr>\n",
       "      <th>481</th>\n",
       "      <td>The Incarnation of Money</td>\n",
       "      <td>15</td>\n",
       "    </tr>\n",
       "    <tr>\n",
       "      <th>482</th>\n",
       "      <td>All About My Romance</td>\n",
       "      <td>15</td>\n",
       "    </tr>\n",
       "    <tr>\n",
       "      <th>483</th>\n",
       "      <td>Love Affairs in the Afternoon</td>\n",
       "      <td>16</td>\n",
       "    </tr>\n",
       "    <tr>\n",
       "      <th>485</th>\n",
       "      <td>Queen: Love And War</td>\n",
       "      <td>16</td>\n",
       "    </tr>\n",
       "  </tbody>\n",
       "</table>\n",
       "<p>358 rows × 2 columns</p>\n",
       "</div>"
      ],
      "text/plain": [
       "                                               title  count\n",
       "0                                             Goblin    299\n",
       "1                          Strong Woman Do Bong Soon    207\n",
       "2                             Descendants of the Sun    194\n",
       "3                                                  W    195\n",
       "4                        You Who Came from the Stars    213\n",
       "..                                               ...    ...\n",
       "472  Wild Chives and Soy Bean Soup: 12 Years Reunion     21\n",
       "481                         The Incarnation of Money     15\n",
       "482                             All About My Romance     15\n",
       "483                    Love Affairs in the Afternoon     16\n",
       "485                              Queen: Love And War     16\n",
       "\n",
       "[358 rows x 2 columns]"
      ]
     },
     "execution_count": 18,
     "metadata": {},
     "output_type": "execute_result"
    }
   ],
   "source": [
    "new = title_df[title_df['count']>=15]\n",
    "title_keep = list(new['title'])\n",
    "new"
   ]
  },
  {
   "cell_type": "code",
   "execution_count": 15,
   "id": "threatened-circumstances",
   "metadata": {},
   "outputs": [],
   "source": [
    "new = new.reset_index(drop=True)\n",
    "new.to_csv('title.csv')"
   ]
  },
  {
   "cell_type": "code",
   "execution_count": 9,
   "id": "pressing-princeton",
   "metadata": {
    "scrolled": true
   },
   "outputs": [],
   "source": [
    "k_new = kdrama[kdrama['title'].isin(title_keep)].reset_index(drop=True)"
   ]
  },
  {
   "cell_type": "code",
   "execution_count": 10,
   "id": "perfect-situation",
   "metadata": {},
   "outputs": [],
   "source": [
    "# k_new = no_na.groupby('title', sort=False).aggregate({'review': 'sum'})"
   ]
  },
  {
   "cell_type": "code",
   "execution_count": 11,
   "id": "statewide-scale",
   "metadata": {
    "scrolled": false
   },
   "outputs": [
    {
     "data": {
      "text/html": [
       "<div>\n",
       "<style scoped>\n",
       "    .dataframe tbody tr th:only-of-type {\n",
       "        vertical-align: middle;\n",
       "    }\n",
       "\n",
       "    .dataframe tbody tr th {\n",
       "        vertical-align: top;\n",
       "    }\n",
       "\n",
       "    .dataframe thead th {\n",
       "        text-align: right;\n",
       "    }\n",
       "</style>\n",
       "<table border=\"1\" class=\"dataframe\">\n",
       "  <thead>\n",
       "    <tr style=\"text-align: right;\">\n",
       "      <th></th>\n",
       "      <th>title</th>\n",
       "      <th>review</th>\n",
       "    </tr>\n",
       "  </thead>\n",
       "  <tbody>\n",
       "    <tr>\n",
       "      <th>21043</th>\n",
       "      <td>Once Again</td>\n",
       "      <td>Once Again. That's the drama name. Once Again ...</td>\n",
       "    </tr>\n",
       "    <tr>\n",
       "      <th>21044</th>\n",
       "      <td>Once Again</td>\n",
       "      <td>Three things you should know about me:  (a) I ...</td>\n",
       "    </tr>\n",
       "    <tr>\n",
       "      <th>21045</th>\n",
       "      <td>Once Again</td>\n",
       "      <td>I never write reviews so bear with me but I am...</td>\n",
       "    </tr>\n",
       "    <tr>\n",
       "      <th>21046</th>\n",
       "      <td>Once Again</td>\n",
       "      <td>This is probably one of the best family dramas...</td>\n",
       "    </tr>\n",
       "    <tr>\n",
       "      <th>21047</th>\n",
       "      <td>Once Again</td>\n",
       "      <td>I've always been a fan of long family tv serie...</td>\n",
       "    </tr>\n",
       "    <tr>\n",
       "      <th>21048</th>\n",
       "      <td>Once Again</td>\n",
       "      <td>So….I binge-watched it for 12h straight…Do I r...</td>\n",
       "    </tr>\n",
       "    <tr>\n",
       "      <th>21049</th>\n",
       "      <td>Once Again</td>\n",
       "      <td>Once Again weaves a realistic tale about secon...</td>\n",
       "    </tr>\n",
       "    <tr>\n",
       "      <th>21050</th>\n",
       "      <td>Once Again</td>\n",
       "      <td>Here goes another drama by the writer of 'Weig...</td>\n",
       "    </tr>\n",
       "    <tr>\n",
       "      <th>21051</th>\n",
       "      <td>Once Again</td>\n",
       "      <td>I feel really torn as how to rate this drama b...</td>\n",
       "    </tr>\n",
       "    <tr>\n",
       "      <th>21052</th>\n",
       "      <td>Once Again</td>\n",
       "      <td>This is basically like 4 regular kdramas in on...</td>\n",
       "    </tr>\n",
       "    <tr>\n",
       "      <th>21053</th>\n",
       "      <td>Once Again</td>\n",
       "      <td>Once Again checks off all the points I wish to...</td>\n",
       "    </tr>\n",
       "    <tr>\n",
       "      <th>21054</th>\n",
       "      <td>Once Again</td>\n",
       "      <td>Mini soap opera with laughs, cries and everyth...</td>\n",
       "    </tr>\n",
       "    <tr>\n",
       "      <th>21055</th>\n",
       "      <td>Once Again</td>\n",
       "      <td>This was an expected surprise for me. My first...</td>\n",
       "    </tr>\n",
       "    <tr>\n",
       "      <th>21056</th>\n",
       "      <td>Once Again</td>\n",
       "      <td>This was one of the Kdramas I watched during t...</td>\n",
       "    </tr>\n",
       "    <tr>\n",
       "      <th>21057</th>\n",
       "      <td>Once Again</td>\n",
       "      <td>I love family dramas and I was looking forward...</td>\n",
       "    </tr>\n",
       "    <tr>\n",
       "      <th>21058</th>\n",
       "      <td>Once Again</td>\n",
       "      <td>My rating on this drama is probably a bit hars...</td>\n",
       "    </tr>\n",
       "    <tr>\n",
       "      <th>21059</th>\n",
       "      <td>Once Again</td>\n",
       "      <td>I waited all the episodes to finish and downlo...</td>\n",
       "    </tr>\n",
       "    <tr>\n",
       "      <th>21060</th>\n",
       "      <td>Once Again</td>\n",
       "      <td>before i even know it, the drama has ended and...</td>\n",
       "    </tr>\n",
       "    <tr>\n",
       "      <th>21233</th>\n",
       "      <td>Once Again</td>\n",
       "      <td>I watched the \"Movie version\" of this drama wh...</td>\n",
       "    </tr>\n",
       "  </tbody>\n",
       "</table>\n",
       "</div>"
      ],
      "text/plain": [
       "            title                                             review\n",
       "21043  Once Again  Once Again. That's the drama name. Once Again ...\n",
       "21044  Once Again  Three things you should know about me:  (a) I ...\n",
       "21045  Once Again  I never write reviews so bear with me but I am...\n",
       "21046  Once Again  This is probably one of the best family dramas...\n",
       "21047  Once Again  I've always been a fan of long family tv serie...\n",
       "21048  Once Again  So….I binge-watched it for 12h straight…Do I r...\n",
       "21049  Once Again  Once Again weaves a realistic tale about secon...\n",
       "21050  Once Again  Here goes another drama by the writer of 'Weig...\n",
       "21051  Once Again  I feel really torn as how to rate this drama b...\n",
       "21052  Once Again  This is basically like 4 regular kdramas in on...\n",
       "21053  Once Again  Once Again checks off all the points I wish to...\n",
       "21054  Once Again  Mini soap opera with laughs, cries and everyth...\n",
       "21055  Once Again  This was an expected surprise for me. My first...\n",
       "21056  Once Again  This was one of the Kdramas I watched during t...\n",
       "21057  Once Again  I love family dramas and I was looking forward...\n",
       "21058  Once Again  My rating on this drama is probably a bit hars...\n",
       "21059  Once Again  I waited all the episodes to finish and downlo...\n",
       "21060  Once Again  before i even know it, the drama has ended and...\n",
       "21233  Once Again  I watched the \"Movie version\" of this drama wh..."
      ]
     },
     "execution_count": 11,
     "metadata": {},
     "output_type": "execute_result"
    }
   ],
   "source": [
    "k_new[k_new['title']=='Once Again']\n",
    "# the rest are conntinuous, we need to drop index 21233 manually"
   ]
  },
  {
   "cell_type": "code",
   "execution_count": 12,
   "id": "mighty-clark",
   "metadata": {
    "scrolled": false
   },
   "outputs": [
    {
     "data": {
      "text/html": [
       "<div>\n",
       "<style scoped>\n",
       "    .dataframe tbody tr th:only-of-type {\n",
       "        vertical-align: middle;\n",
       "    }\n",
       "\n",
       "    .dataframe tbody tr th {\n",
       "        vertical-align: top;\n",
       "    }\n",
       "\n",
       "    .dataframe thead th {\n",
       "        text-align: right;\n",
       "    }\n",
       "</style>\n",
       "<table border=\"1\" class=\"dataframe\">\n",
       "  <thead>\n",
       "    <tr style=\"text-align: right;\">\n",
       "      <th></th>\n",
       "      <th>title</th>\n",
       "      <th>review</th>\n",
       "    </tr>\n",
       "  </thead>\n",
       "  <tbody>\n",
       "    <tr>\n",
       "      <th>0</th>\n",
       "      <td>Goblin</td>\n",
       "      <td>If you are hesitating to watch this at all, pl...</td>\n",
       "    </tr>\n",
       "    <tr>\n",
       "      <th>1</th>\n",
       "      <td>Goblin</td>\n",
       "      <td>I feel compelled to write a review for Goblin ...</td>\n",
       "    </tr>\n",
       "    <tr>\n",
       "      <th>2</th>\n",
       "      <td>Goblin</td>\n",
       "      <td>It must be said that Goblin is very much a som...</td>\n",
       "    </tr>\n",
       "    <tr>\n",
       "      <th>3</th>\n",
       "      <td>Goblin</td>\n",
       "      <td>Every moment of it indeed shined! Goblin is a ...</td>\n",
       "    </tr>\n",
       "    <tr>\n",
       "      <th>4</th>\n",
       "      <td>Goblin</td>\n",
       "      <td>Somewhere inside Goblin, buried under a mound ...</td>\n",
       "    </tr>\n",
       "    <tr>\n",
       "      <th>...</th>\n",
       "      <td>...</td>\n",
       "      <td>...</td>\n",
       "    </tr>\n",
       "    <tr>\n",
       "      <th>21228</th>\n",
       "      <td>Queen: Love And War</td>\n",
       "      <td>I think I might have over-hyped this drama for...</td>\n",
       "    </tr>\n",
       "    <tr>\n",
       "      <th>21229</th>\n",
       "      <td>Queen: Love And War</td>\n",
       "      <td>I'll just gonna say it was very wonderful, it'...</td>\n",
       "    </tr>\n",
       "    <tr>\n",
       "      <th>21230</th>\n",
       "      <td>Queen: Love And War</td>\n",
       "      <td>This is one of my binge watched dramas after b...</td>\n",
       "    </tr>\n",
       "    <tr>\n",
       "      <th>21231</th>\n",
       "      <td>Queen: Love And War</td>\n",
       "      <td>The best word to sum up this kdrama is \"strong...</td>\n",
       "    </tr>\n",
       "    <tr>\n",
       "      <th>21232</th>\n",
       "      <td>Queen: Love And War</td>\n",
       "      <td>First of all I love the acting! ML is so hands...</td>\n",
       "    </tr>\n",
       "  </tbody>\n",
       "</table>\n",
       "<p>21233 rows × 2 columns</p>\n",
       "</div>"
      ],
      "text/plain": [
       "                     title                                             review\n",
       "0                   Goblin  If you are hesitating to watch this at all, pl...\n",
       "1                   Goblin  I feel compelled to write a review for Goblin ...\n",
       "2                   Goblin  It must be said that Goblin is very much a som...\n",
       "3                   Goblin  Every moment of it indeed shined! Goblin is a ...\n",
       "4                   Goblin  Somewhere inside Goblin, buried under a mound ...\n",
       "...                    ...                                                ...\n",
       "21228  Queen: Love And War  I think I might have over-hyped this drama for...\n",
       "21229  Queen: Love And War  I'll just gonna say it was very wonderful, it'...\n",
       "21230  Queen: Love And War  This is one of my binge watched dramas after b...\n",
       "21231  Queen: Love And War  The best word to sum up this kdrama is \"strong...\n",
       "21232  Queen: Love And War  First of all I love the acting! ML is so hands...\n",
       "\n",
       "[21233 rows x 2 columns]"
      ]
     },
     "execution_count": 12,
     "metadata": {},
     "output_type": "execute_result"
    }
   ],
   "source": [
    "k_new = k_new.drop(21233).reset_index(drop = True)\n",
    "k_new"
   ]
  },
  {
   "cell_type": "code",
   "execution_count": null,
   "id": "adopted-boutique",
   "metadata": {},
   "outputs": [],
   "source": [
    "k_new.to_csv('reviews.csv')"
   ]
  },
  {
   "cell_type": "markdown",
   "id": "fifteen-electric",
   "metadata": {},
   "source": [
    "`drop = []\n",
    "for i in range(len(no_na)):\n",
    "    if no_na.iloc[i,0] not in title:\n",
    "        drop.append(i)\n",
    "no_na = no_na.drop(drop)`"
   ]
  }
 ],
 "metadata": {
  "kernelspec": {
   "display_name": "Python 3",
   "language": "python",
   "name": "python3"
  },
  "language_info": {
   "codemirror_mode": {
    "name": "ipython",
    "version": 3
   },
   "file_extension": ".py",
   "mimetype": "text/x-python",
   "name": "python",
   "nbconvert_exporter": "python",
   "pygments_lexer": "ipython3",
   "version": "3.8.5"
  }
 },
 "nbformat": 4,
 "nbformat_minor": 5
}
